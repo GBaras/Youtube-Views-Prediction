{
 "cells": [
  {
   "cell_type": "markdown",
   "metadata": {},
   "source": [
    "## Load libraries"
   ]
  },
  {
   "cell_type": "code",
   "execution_count": 1,
   "metadata": {},
   "outputs": [],
   "source": [
    "import pandas as pd\n",
    "import numpy as np\n",
    "import re\n",
    "import matplotlib.pyplot as plt\n",
    "from matplotlib import pyplot\n",
    "%matplotlib inline\n",
    "import time\n",
    "import seaborn as sns\n",
    "import xgboost\n",
    "from xgboost import XGBClassifier\n",
    "from xgboost import plot_importance\n",
    "from sklearn.model_selection import train_test_split\n",
    "from sklearn.ensemble import RandomForestClassifier\n",
    "from sklearn.neighbors import KNeighborsClassifier\n",
    "from sklearn.utils import class_weight\n",
    "from sklearn.model_selection import cross_val_score, GridSearchCV, KFold, RandomizedSearchCV, train_test_split\n",
    "from sklearn.metrics import precision_recall_fscore_support, classification_report,precision_score,auc,accuracy_score, confusion_matrix, mean_squared_error\n",
    "from sklearn import preprocessing"
   ]
  },
  {
   "cell_type": "markdown",
   "metadata": {},
   "source": [
    "## Load Data"
   ]
  },
  {
   "cell_type": "code",
   "execution_count": 2,
   "metadata": {},
   "outputs": [
    {
     "data": {
      "text/html": [
       "<div>\n",
       "<style scoped>\n",
       "    .dataframe tbody tr th:only-of-type {\n",
       "        vertical-align: middle;\n",
       "    }\n",
       "\n",
       "    .dataframe tbody tr th {\n",
       "        vertical-align: top;\n",
       "    }\n",
       "\n",
       "    .dataframe thead th {\n",
       "        text-align: right;\n",
       "    }\n",
       "</style>\n",
       "<table border=\"1\" class=\"dataframe\">\n",
       "  <thead>\n",
       "    <tr style=\"text-align: right;\">\n",
       "      <th></th>\n",
       "      <th>video_id</th>\n",
       "      <th>channel id</th>\n",
       "      <th>video_title</th>\n",
       "      <th>owned views</th>\n",
       "      <th>day</th>\n",
       "      <th>category</th>\n",
       "    </tr>\n",
       "  </thead>\n",
       "  <tbody>\n",
       "    <tr>\n",
       "      <th>0</th>\n",
       "      <td>I-QqU7uzFzw</td>\n",
       "      <td>UC3JF8FB_ihCGdIQdAnF0WLQ</td>\n",
       "      <td>Sonic The Hedgehog Trailer Reaction | Reaction...</td>\n",
       "      <td>2.0</td>\n",
       "      <td>20190527</td>\n",
       "      <td>film</td>\n",
       "    </tr>\n",
       "  </tbody>\n",
       "</table>\n",
       "</div>"
      ],
      "text/plain": [
       "      video_id                channel id  \\\n",
       "0  I-QqU7uzFzw  UC3JF8FB_ihCGdIQdAnF0WLQ   \n",
       "\n",
       "                                         video_title  owned views       day  \\\n",
       "0  Sonic The Hedgehog Trailer Reaction | Reaction...          2.0  20190527   \n",
       "\n",
       "  category  \n",
       "0     film  "
      ]
     },
     "execution_count": 2,
     "metadata": {},
     "output_type": "execute_result"
    }
   ],
   "source": [
    "#Load time series with video\n",
    "ts_video = pd.read_csv('timeseries_videos.csv')\n",
    "\n",
    "## REMOVE DUPLICATES\n",
    "ts_video = ts_video.drop_duplicates()\n",
    "ts_video.head(1)"
   ]
  },
  {
   "cell_type": "code",
   "execution_count": 3,
   "metadata": {},
   "outputs": [
    {
     "data": {
      "text/html": [
       "<div>\n",
       "<style scoped>\n",
       "    .dataframe tbody tr th:only-of-type {\n",
       "        vertical-align: middle;\n",
       "    }\n",
       "\n",
       "    .dataframe tbody tr th {\n",
       "        vertical-align: top;\n",
       "    }\n",
       "\n",
       "    .dataframe thead th {\n",
       "        text-align: right;\n",
       "    }\n",
       "</style>\n",
       "<table border=\"1\" class=\"dataframe\">\n",
       "  <thead>\n",
       "    <tr style=\"text-align: right;\">\n",
       "      <th></th>\n",
       "      <th>video_id</th>\n",
       "      <th>publishedAt</th>\n",
       "      <th>tags</th>\n",
       "      <th>defaultAudioLanguage</th>\n",
       "      <th>duration</th>\n",
       "      <th>definition</th>\n",
       "      <th>licensedContent</th>\n",
       "      <th>relevantTopicIds</th>\n",
       "    </tr>\n",
       "  </thead>\n",
       "  <tbody>\n",
       "    <tr>\n",
       "      <th>0</th>\n",
       "      <td>vNMs6q3x10Y</td>\n",
       "      <td>2019-04-16T11:22:27.000Z</td>\n",
       "      <td>BoybandPH sings|ABS-CBN Philippines|Showbiz|Pi...</td>\n",
       "      <td>NaN</td>\n",
       "      <td>PT4M13S</td>\n",
       "      <td>hd</td>\n",
       "      <td>False</td>\n",
       "      <td>/m/04rlf|/m/064t9</td>\n",
       "    </tr>\n",
       "  </tbody>\n",
       "</table>\n",
       "</div>"
      ],
      "text/plain": [
       "      video_id               publishedAt  \\\n",
       "0  vNMs6q3x10Y  2019-04-16T11:22:27.000Z   \n",
       "\n",
       "                                                tags defaultAudioLanguage  \\\n",
       "0  BoybandPH sings|ABS-CBN Philippines|Showbiz|Pi...                  NaN   \n",
       "\n",
       "  duration definition  licensedContent   relevantTopicIds  \n",
       "0  PT4M13S         hd            False  /m/04rlf|/m/064t9  "
      ]
     },
     "execution_count": 3,
     "metadata": {},
     "output_type": "execute_result"
    }
   ],
   "source": [
    "#Load video metadata\n",
    "md_video = pd.read_csv('video_metadata.csv')\n",
    "md_video.head(1)"
   ]
  },
  {
   "cell_type": "code",
   "execution_count": 4,
   "metadata": {},
   "outputs": [
    {
     "data": {
      "text/html": [
       "<div>\n",
       "<style scoped>\n",
       "    .dataframe tbody tr th:only-of-type {\n",
       "        vertical-align: middle;\n",
       "    }\n",
       "\n",
       "    .dataframe tbody tr th {\n",
       "        vertical-align: top;\n",
       "    }\n",
       "\n",
       "    .dataframe thead th {\n",
       "        text-align: right;\n",
       "    }\n",
       "</style>\n",
       "<table border=\"1\" class=\"dataframe\">\n",
       "  <thead>\n",
       "    <tr style=\"text-align: right;\">\n",
       "      <th></th>\n",
       "      <th>channel_id</th>\n",
       "      <th>channel_title</th>\n",
       "      <th>channel_published_at</th>\n",
       "      <th>country</th>\n",
       "      <th>channel_topicIds</th>\n",
       "    </tr>\n",
       "  </thead>\n",
       "  <tbody>\n",
       "    <tr>\n",
       "      <th>0</th>\n",
       "      <td>UCSqlOW3cdLtgq7W68M0QSeQ</td>\n",
       "      <td>KPOPVIRALZ</td>\n",
       "      <td>2015-02-06T08:42:46.000Z</td>\n",
       "      <td>US</td>\n",
       "      <td>/m/04rlf|/m/028sqc|/m/02jjt|/m/04rlf|/m/028sqc...</td>\n",
       "    </tr>\n",
       "  </tbody>\n",
       "</table>\n",
       "</div>"
      ],
      "text/plain": [
       "                 channel_id channel_title      channel_published_at country  \\\n",
       "0  UCSqlOW3cdLtgq7W68M0QSeQ    KPOPVIRALZ  2015-02-06T08:42:46.000Z      US   \n",
       "\n",
       "                                    channel_topicIds  \n",
       "0  /m/04rlf|/m/028sqc|/m/02jjt|/m/04rlf|/m/028sqc...  "
      ]
     },
     "execution_count": 4,
     "metadata": {},
     "output_type": "execute_result"
    }
   ],
   "source": [
    "#Load video metadata\n",
    "md_channel = pd.read_csv('channel_metadata.csv')\n",
    "md_channel.head(1)"
   ]
  },
  {
   "cell_type": "markdown",
   "metadata": {},
   "source": [
    "### Load topics data"
   ]
  },
  {
   "cell_type": "code",
   "execution_count": 5,
   "metadata": {},
   "outputs": [
    {
     "data": {
      "text/html": [
       "<div>\n",
       "<style scoped>\n",
       "    .dataframe tbody tr th:only-of-type {\n",
       "        vertical-align: middle;\n",
       "    }\n",
       "\n",
       "    .dataframe tbody tr th {\n",
       "        vertical-align: top;\n",
       "    }\n",
       "\n",
       "    .dataframe thead th {\n",
       "        text-align: right;\n",
       "    }\n",
       "</style>\n",
       "<table border=\"1\" class=\"dataframe\">\n",
       "  <thead>\n",
       "    <tr style=\"text-align: right;\">\n",
       "      <th></th>\n",
       "      <th>id</th>\n",
       "      <th>topic</th>\n",
       "    </tr>\n",
       "  </thead>\n",
       "  <tbody>\n",
       "    <tr>\n",
       "      <th>0</th>\n",
       "      <td>/m/04rlf</td>\n",
       "      <td>Music</td>\n",
       "    </tr>\n",
       "    <tr>\n",
       "      <th>1</th>\n",
       "      <td>/m/02mscn</td>\n",
       "      <td>Christian music</td>\n",
       "    </tr>\n",
       "    <tr>\n",
       "      <th>2</th>\n",
       "      <td>/m/0ggq0m</td>\n",
       "      <td>Classical music</td>\n",
       "    </tr>\n",
       "    <tr>\n",
       "      <th>3</th>\n",
       "      <td>/m/01lyv</td>\n",
       "      <td>Country</td>\n",
       "    </tr>\n",
       "    <tr>\n",
       "      <th>4</th>\n",
       "      <td>/m/02lkt</td>\n",
       "      <td>Electronic music</td>\n",
       "    </tr>\n",
       "  </tbody>\n",
       "</table>\n",
       "</div>"
      ],
      "text/plain": [
       "          id             topic\n",
       "0   /m/04rlf             Music\n",
       "1  /m/02mscn   Christian music\n",
       "2  /m/0ggq0m   Classical music\n",
       "3   /m/01lyv           Country\n",
       "4   /m/02lkt  Electronic music"
      ]
     },
     "execution_count": 5,
     "metadata": {},
     "output_type": "execute_result"
    }
   ],
   "source": [
    "topics = pd.read_csv('topicids.csv')\n",
    "topics.head()"
   ]
  },
  {
   "cell_type": "markdown",
   "metadata": {},
   "source": [
    "#### Merge video and channel data"
   ]
  },
  {
   "cell_type": "code",
   "execution_count": 6,
   "metadata": {},
   "outputs": [
    {
     "data": {
      "text/html": [
       "<div>\n",
       "<style scoped>\n",
       "    .dataframe tbody tr th:only-of-type {\n",
       "        vertical-align: middle;\n",
       "    }\n",
       "\n",
       "    .dataframe tbody tr th {\n",
       "        vertical-align: top;\n",
       "    }\n",
       "\n",
       "    .dataframe thead th {\n",
       "        text-align: right;\n",
       "    }\n",
       "</style>\n",
       "<table border=\"1\" class=\"dataframe\">\n",
       "  <thead>\n",
       "    <tr style=\"text-align: right;\">\n",
       "      <th></th>\n",
       "      <th>video_id</th>\n",
       "      <th>channel id</th>\n",
       "      <th>video_title</th>\n",
       "      <th>owned views</th>\n",
       "      <th>day</th>\n",
       "      <th>category</th>\n",
       "      <th>publishedAt</th>\n",
       "      <th>tags</th>\n",
       "      <th>defaultAudioLanguage</th>\n",
       "      <th>duration</th>\n",
       "      <th>definition</th>\n",
       "      <th>licensedContent</th>\n",
       "      <th>relevantTopicIds</th>\n",
       "      <th>channel_id</th>\n",
       "      <th>channel_title</th>\n",
       "      <th>channel_published_at</th>\n",
       "      <th>country</th>\n",
       "      <th>channel_topicIds</th>\n",
       "    </tr>\n",
       "  </thead>\n",
       "  <tbody>\n",
       "    <tr>\n",
       "      <th>0</th>\n",
       "      <td>I-QqU7uzFzw</td>\n",
       "      <td>UC3JF8FB_ihCGdIQdAnF0WLQ</td>\n",
       "      <td>Sonic The Hedgehog Trailer Reaction | Reaction...</td>\n",
       "      <td>2.0</td>\n",
       "      <td>20190527</td>\n",
       "      <td>film</td>\n",
       "      <td>2019-04-30T18:28:47.000Z</td>\n",
       "      <td>Sonic the Hedgehog Movie Trailer reaction|Soni...</td>\n",
       "      <td>en-US</td>\n",
       "      <td>PT2M51S</td>\n",
       "      <td>hd</td>\n",
       "      <td>False</td>\n",
       "      <td>/m/02jjt|/m/02vxn</td>\n",
       "      <td>UC3JF8FB_ihCGdIQdAnF0WLQ</td>\n",
       "      <td>Trailer Reaction</td>\n",
       "      <td>2018-10-10T19:05:53.000Z</td>\n",
       "      <td>ID</td>\n",
       "      <td>/m/02jjt|/m/02vxn|/m/04rlf|/m/0bzvm2|/m/02jjt|...</td>\n",
       "    </tr>\n",
       "  </tbody>\n",
       "</table>\n",
       "</div>"
      ],
      "text/plain": [
       "      video_id                channel id  \\\n",
       "0  I-QqU7uzFzw  UC3JF8FB_ihCGdIQdAnF0WLQ   \n",
       "\n",
       "                                         video_title  owned views       day  \\\n",
       "0  Sonic The Hedgehog Trailer Reaction | Reaction...          2.0  20190527   \n",
       "\n",
       "  category               publishedAt  \\\n",
       "0     film  2019-04-30T18:28:47.000Z   \n",
       "\n",
       "                                                tags defaultAudioLanguage  \\\n",
       "0  Sonic the Hedgehog Movie Trailer reaction|Soni...                en-US   \n",
       "\n",
       "  duration definition licensedContent   relevantTopicIds  \\\n",
       "0  PT2M51S         hd           False  /m/02jjt|/m/02vxn   \n",
       "\n",
       "                 channel_id     channel_title      channel_published_at  \\\n",
       "0  UC3JF8FB_ihCGdIQdAnF0WLQ  Trailer Reaction  2018-10-10T19:05:53.000Z   \n",
       "\n",
       "  country                                   channel_topicIds  \n",
       "0      ID  /m/02jjt|/m/02vxn|/m/04rlf|/m/0bzvm2|/m/02jjt|...  "
      ]
     },
     "execution_count": 6,
     "metadata": {},
     "output_type": "execute_result"
    }
   ],
   "source": [
    "add_md_video   = pd.merge(ts_video, md_video, on='video_id', how='left')\n",
    "add_md_channel = pd.merge(add_md_video, md_channel, left_on='channel id', right_on='channel_id', how='left')\n",
    "df = add_md_channel\n",
    "df.head(1)"
   ]
  },
  {
   "cell_type": "markdown",
   "metadata": {},
   "source": [
    "# Data Cleaning & Feature Engineering"
   ]
  },
  {
   "cell_type": "markdown",
   "metadata": {
    "collapsed": true
   },
   "source": [
    "##### Create feature with tags count"
   ]
  },
  {
   "cell_type": "code",
   "execution_count": 7,
   "metadata": {},
   "outputs": [],
   "source": [
    "df['Tags_count']=df['tags'].fillna('').str.split(\"|\").apply(lambda x: len(x))"
   ]
  },
  {
   "cell_type": "markdown",
   "metadata": {
    "collapsed": true
   },
   "source": [
    "##### Create feature with video duration (in seconds)"
   ]
  },
  {
   "cell_type": "code",
   "execution_count": 8,
   "metadata": {},
   "outputs": [],
   "source": [
    "## Trim 2 first characters\n",
    "df['trim_duration']=df['duration'].apply(lambda x: str(x)[2:])\n",
    "\n",
    "## Replace nan with 0 seconds\n",
    "df['trim_duration'].replace('n', '0S',inplace=True)\n",
    "\n",
    "## Create function to deal with duration format and convert it to seconds\n",
    "HMS_REGEX = re.compile('^(\\d+)H(\\d+)M(\\d+)S$')\n",
    "HS_REGEX = re.compile('^(\\d+)H(\\d+)S$')\n",
    "MS_REGEX = re.compile('^(\\d+)M(\\d+)S$')\n",
    "M_REGEX = re.compile('^(\\d+)M$')\n",
    "S_REGEX = re.compile('^(\\d+)S$')\n",
    "\n",
    "\n",
    "def total_seconds(hms_string):\n",
    "    found = HMS_REGEX.match(hms_string)\n",
    "    if found:\n",
    "        x = found.group(1)\n",
    "        return 3600 * int(found.group(1)) + \\\n",
    "               60 * int(found.group(2)) + \\\n",
    "               int(found.group(3))\n",
    "            \n",
    "    found = HS_REGEX.match(hms_string)\n",
    "    if found:\n",
    "        x = found.group(1)\n",
    "        return 3600 * int(found.group(1)) + \\\n",
    "               int(found.group(2))        \n",
    "\n",
    "    found = MS_REGEX.match(hms_string)\n",
    "    if found:\n",
    "        return 60 * int(found.group(1)) + int(found.group(2))\n",
    "    \n",
    "    found = M_REGEX.match(hms_string)\n",
    "    if found:\n",
    "        return 60 * int(found.group(1)) \n",
    "    \n",
    "    found = S_REGEX.match(hms_string)\n",
    "    if found:\n",
    "        return int(found.group(1))\n",
    "\n",
    "    raise ValueError('Could not convert ' + hms_string)\n",
    "\n",
    "# Create feature with Duration in sec\n",
    "df['Duration_Seconds'] = df['trim_duration'].apply(lambda x: total_seconds(str(x))) "
   ]
  },
  {
   "cell_type": "markdown",
   "metadata": {},
   "source": [
    "#### Create features for video & channel age (in days)"
   ]
  },
  {
   "cell_type": "code",
   "execution_count": 9,
   "metadata": {},
   "outputs": [
    {
     "data": {
      "text/html": [
       "<div>\n",
       "<style scoped>\n",
       "    .dataframe tbody tr th:only-of-type {\n",
       "        vertical-align: middle;\n",
       "    }\n",
       "\n",
       "    .dataframe tbody tr th {\n",
       "        vertical-align: top;\n",
       "    }\n",
       "\n",
       "    .dataframe thead th {\n",
       "        text-align: right;\n",
       "    }\n",
       "</style>\n",
       "<table border=\"1\" class=\"dataframe\">\n",
       "  <thead>\n",
       "    <tr style=\"text-align: right;\">\n",
       "      <th></th>\n",
       "      <th>video_id</th>\n",
       "      <th>channel id</th>\n",
       "      <th>video_title</th>\n",
       "      <th>owned views</th>\n",
       "      <th>day</th>\n",
       "      <th>category</th>\n",
       "      <th>publishedAt</th>\n",
       "      <th>tags</th>\n",
       "      <th>defaultAudioLanguage</th>\n",
       "      <th>duration</th>\n",
       "      <th>...</th>\n",
       "      <th>channel_id</th>\n",
       "      <th>channel_title</th>\n",
       "      <th>channel_published_at</th>\n",
       "      <th>country</th>\n",
       "      <th>channel_topicIds</th>\n",
       "      <th>Tags_count</th>\n",
       "      <th>trim_duration</th>\n",
       "      <th>Duration_Seconds</th>\n",
       "      <th>video_age</th>\n",
       "      <th>channel_age</th>\n",
       "    </tr>\n",
       "  </thead>\n",
       "  <tbody>\n",
       "    <tr>\n",
       "      <th>0</th>\n",
       "      <td>I-QqU7uzFzw</td>\n",
       "      <td>UC3JF8FB_ihCGdIQdAnF0WLQ</td>\n",
       "      <td>Sonic The Hedgehog Trailer Reaction | Reaction...</td>\n",
       "      <td>2.0</td>\n",
       "      <td>2019-05-27</td>\n",
       "      <td>film</td>\n",
       "      <td>2019-04-30 18:28:47</td>\n",
       "      <td>Sonic the Hedgehog Movie Trailer reaction|Soni...</td>\n",
       "      <td>en-US</td>\n",
       "      <td>PT2M51S</td>\n",
       "      <td>...</td>\n",
       "      <td>UC3JF8FB_ihCGdIQdAnF0WLQ</td>\n",
       "      <td>Trailer Reaction</td>\n",
       "      <td>2018-10-10 19:05:53</td>\n",
       "      <td>ID</td>\n",
       "      <td>/m/02jjt|/m/02vxn|/m/04rlf|/m/0bzvm2|/m/02jjt|...</td>\n",
       "      <td>11</td>\n",
       "      <td>2M51S</td>\n",
       "      <td>171</td>\n",
       "      <td>26.0</td>\n",
       "      <td>228.0</td>\n",
       "    </tr>\n",
       "  </tbody>\n",
       "</table>\n",
       "<p>1 rows × 23 columns</p>\n",
       "</div>"
      ],
      "text/plain": [
       "      video_id                channel id  \\\n",
       "0  I-QqU7uzFzw  UC3JF8FB_ihCGdIQdAnF0WLQ   \n",
       "\n",
       "                                         video_title  owned views        day  \\\n",
       "0  Sonic The Hedgehog Trailer Reaction | Reaction...          2.0 2019-05-27   \n",
       "\n",
       "  category         publishedAt  \\\n",
       "0     film 2019-04-30 18:28:47   \n",
       "\n",
       "                                                tags defaultAudioLanguage  \\\n",
       "0  Sonic the Hedgehog Movie Trailer reaction|Soni...                en-US   \n",
       "\n",
       "  duration  ...                channel_id     channel_title  \\\n",
       "0  PT2M51S  ...  UC3JF8FB_ihCGdIQdAnF0WLQ  Trailer Reaction   \n",
       "\n",
       "  channel_published_at country  \\\n",
       "0  2018-10-10 19:05:53      ID   \n",
       "\n",
       "                                    channel_topicIds Tags_count trim_duration  \\\n",
       "0  /m/02jjt|/m/02vxn|/m/04rlf|/m/0bzvm2|/m/02jjt|...         11         2M51S   \n",
       "\n",
       "  Duration_Seconds  video_age channel_age  \n",
       "0              171       26.0       228.0  \n",
       "\n",
       "[1 rows x 23 columns]"
      ]
     },
     "execution_count": 9,
     "metadata": {},
     "output_type": "execute_result"
    }
   ],
   "source": [
    "## Convert day to datetime\n",
    "df['day'] = df['day'].apply(lambda x: pd.to_datetime(str(x), format='%Y%m%d'))\n",
    "\n",
    "## Convert publishedAt to datetime\n",
    "df['publishedAt']=df['publishedAt'].apply(lambda x: pd.to_datetime(str(x), format=\"%Y-%m-%dT%H:%M:%S.%fZ\"))\n",
    "\n",
    "## Convert channel_published_at to datetime\n",
    "df['channel_published_at']=df['channel_published_at'].apply(lambda x: pd.to_datetime(str(x), format=\"%Y-%m-%dT%H:%M:%S.%fZ\"))\n",
    "\n",
    "## Create features\n",
    "df['video_age'] = (df['day'] - df['publishedAt']).astype('timedelta64[D]')\n",
    "df['channel_age'] = (df['day'] - df['channel_published_at']).astype('timedelta64[D]')\n",
    "df.head(1)"
   ]
  },
  {
   "cell_type": "code",
   "execution_count": 10,
   "metadata": {},
   "outputs": [
    {
     "data": {
      "text/plain": [
       "count    193369.000000\n",
       "mean       1680.177852\n",
       "std        1122.938117\n",
       "min          -1.000000\n",
       "25%         820.000000\n",
       "50%        1434.000000\n",
       "75%        2479.000000\n",
       "max        4994.000000\n",
       "Name: channel_age, dtype: float64"
      ]
     },
     "execution_count": 10,
     "metadata": {},
     "output_type": "execute_result"
    }
   ],
   "source": [
    "df['channel_age'].describe()  \n",
    "#### -1 values are due to time difference in datetime. They are basically the same day so we set to 0 later below"
   ]
  },
  {
   "cell_type": "code",
   "execution_count": 11,
   "metadata": {},
   "outputs": [
    {
     "data": {
      "text/plain": [
       "count    177530.000000\n",
       "mean        155.305284\n",
       "std         430.012563\n",
       "min          -5.000000\n",
       "25%          12.000000\n",
       "50%          30.000000\n",
       "75%          71.000000\n",
       "max        4654.000000\n",
       "Name: video_age, dtype: float64"
      ]
     },
     "execution_count": 11,
     "metadata": {},
     "output_type": "execute_result"
    }
   ],
   "source": [
    "df['video_age'].describe()  \n",
    "#### -1 values are due to time difference in datetime. They are basically the same day so we set to 0 later below\n",
    "#### Values <-1 are wrong input in data so we replace with column mean"
   ]
  },
  {
   "cell_type": "code",
   "execution_count": 12,
   "metadata": {},
   "outputs": [],
   "source": [
    "# Replace negative video ages\n",
    "df['video_age'].replace(-1, 0,inplace=True)\n",
    "df.loc[df['video_age'] < 0, 'video_age'] = df['video_age'].mean()\n",
    "# Replace negative channel ages\n",
    "df['channel_age'].replace(-1, 0,inplace=True)"
   ]
  },
  {
   "cell_type": "markdown",
   "metadata": {},
   "source": [
    "#### Create binary features with 5 most frequent topics (combining channel & video topics)"
   ]
  },
  {
   "cell_type": "code",
   "execution_count": 13,
   "metadata": {},
   "outputs": [
    {
     "data": {
      "text/plain": [
       "/m/04rlf     383722\n",
       "/m/02jjt     191001\n",
       "/m/064t9     131436\n",
       "/m/019_rr     70904\n",
       "/m/02vxn      67234\n",
       "dtype: int64"
      ]
     },
     "execution_count": 13,
     "metadata": {},
     "output_type": "execute_result"
    }
   ],
   "source": [
    "## Concatenate strings with topic info \n",
    "df['TopicIds'] = df['relevantTopicIds'] +'|'+df['channel_topicIds']\n",
    "\n",
    "## Split and count topics\n",
    "Freq=df['TopicIds'].str.split('|', expand=True).stack().value_counts()\n",
    "\n",
    "##Print top 5\n",
    "Freq.head(5)"
   ]
  },
  {
   "cell_type": "code",
   "execution_count": 14,
   "metadata": {},
   "outputs": [],
   "source": [
    "## create columns for top 5 topics with 0 initial value\n",
    "l=['/m/04rlf','/m/02jjt','/m/064t9','/m/019_rr','/m/02vxn']\n",
    "\n",
    "for x in l:\n",
    "    df[x]=0\n",
    "    \n",
    "## fill missing values\n",
    "df['TopicIds']=df['TopicIds'].fillna('NoTopic')\n",
    "\n",
    "\n",
    "## The below loop puts true/false values in the columns we created above \n",
    "## by searching the column name in the concatenated string with the topics\n",
    "for y in l:\n",
    "    df[y]=df['TopicIds'].apply(lambda x: y in x)"
   ]
  },
  {
   "cell_type": "code",
   "execution_count": 15,
   "metadata": {},
   "outputs": [
    {
     "data": {
      "text/html": [
       "<div>\n",
       "<style scoped>\n",
       "    .dataframe tbody tr th:only-of-type {\n",
       "        vertical-align: middle;\n",
       "    }\n",
       "\n",
       "    .dataframe tbody tr th {\n",
       "        vertical-align: top;\n",
       "    }\n",
       "\n",
       "    .dataframe thead th {\n",
       "        text-align: right;\n",
       "    }\n",
       "</style>\n",
       "<table border=\"1\" class=\"dataframe\">\n",
       "  <thead>\n",
       "    <tr style=\"text-align: right;\">\n",
       "      <th></th>\n",
       "      <th>owned views</th>\n",
       "      <th>definition</th>\n",
       "      <th>category</th>\n",
       "      <th>licensedContent</th>\n",
       "      <th>country</th>\n",
       "      <th>Tags_count</th>\n",
       "      <th>Duration_Seconds</th>\n",
       "      <th>video_age</th>\n",
       "      <th>channel_age</th>\n",
       "      <th>/m/04rlf</th>\n",
       "      <th>/m/02jjt</th>\n",
       "      <th>/m/064t9</th>\n",
       "      <th>/m/019_rr</th>\n",
       "      <th>/m/02vxn</th>\n",
       "    </tr>\n",
       "  </thead>\n",
       "  <tbody>\n",
       "    <tr>\n",
       "      <th>0</th>\n",
       "      <td>2.0</td>\n",
       "      <td>hd</td>\n",
       "      <td>film</td>\n",
       "      <td>False</td>\n",
       "      <td>ID</td>\n",
       "      <td>11</td>\n",
       "      <td>171</td>\n",
       "      <td>26.0</td>\n",
       "      <td>228.0</td>\n",
       "      <td>True</td>\n",
       "      <td>True</td>\n",
       "      <td>False</td>\n",
       "      <td>False</td>\n",
       "      <td>True</td>\n",
       "    </tr>\n",
       "    <tr>\n",
       "      <th>1</th>\n",
       "      <td>12.0</td>\n",
       "      <td>hd</td>\n",
       "      <td>film</td>\n",
       "      <td>False</td>\n",
       "      <td>ID</td>\n",
       "      <td>11</td>\n",
       "      <td>171</td>\n",
       "      <td>6.0</td>\n",
       "      <td>208.0</td>\n",
       "      <td>True</td>\n",
       "      <td>True</td>\n",
       "      <td>False</td>\n",
       "      <td>False</td>\n",
       "      <td>True</td>\n",
       "    </tr>\n",
       "    <tr>\n",
       "      <th>2</th>\n",
       "      <td>80.0</td>\n",
       "      <td>hd</td>\n",
       "      <td>film</td>\n",
       "      <td>False</td>\n",
       "      <td>ID</td>\n",
       "      <td>11</td>\n",
       "      <td>171</td>\n",
       "      <td>0.0</td>\n",
       "      <td>202.0</td>\n",
       "      <td>True</td>\n",
       "      <td>True</td>\n",
       "      <td>False</td>\n",
       "      <td>False</td>\n",
       "      <td>True</td>\n",
       "    </tr>\n",
       "    <tr>\n",
       "      <th>3</th>\n",
       "      <td>3.0</td>\n",
       "      <td>hd</td>\n",
       "      <td>film</td>\n",
       "      <td>False</td>\n",
       "      <td>ID</td>\n",
       "      <td>11</td>\n",
       "      <td>171</td>\n",
       "      <td>20.0</td>\n",
       "      <td>222.0</td>\n",
       "      <td>True</td>\n",
       "      <td>True</td>\n",
       "      <td>False</td>\n",
       "      <td>False</td>\n",
       "      <td>True</td>\n",
       "    </tr>\n",
       "    <tr>\n",
       "      <th>4</th>\n",
       "      <td>83.0</td>\n",
       "      <td>hd</td>\n",
       "      <td>film</td>\n",
       "      <td>False</td>\n",
       "      <td>ID</td>\n",
       "      <td>11</td>\n",
       "      <td>171</td>\n",
       "      <td>2.0</td>\n",
       "      <td>204.0</td>\n",
       "      <td>True</td>\n",
       "      <td>True</td>\n",
       "      <td>False</td>\n",
       "      <td>False</td>\n",
       "      <td>True</td>\n",
       "    </tr>\n",
       "  </tbody>\n",
       "</table>\n",
       "</div>"
      ],
      "text/plain": [
       "   owned views definition category licensedContent country  Tags_count  \\\n",
       "0          2.0         hd     film           False      ID          11   \n",
       "1         12.0         hd     film           False      ID          11   \n",
       "2         80.0         hd     film           False      ID          11   \n",
       "3          3.0         hd     film           False      ID          11   \n",
       "4         83.0         hd     film           False      ID          11   \n",
       "\n",
       "   Duration_Seconds  video_age  channel_age  /m/04rlf  /m/02jjt  /m/064t9  \\\n",
       "0               171       26.0        228.0      True      True     False   \n",
       "1               171        6.0        208.0      True      True     False   \n",
       "2               171        0.0        202.0      True      True     False   \n",
       "3               171       20.0        222.0      True      True     False   \n",
       "4               171        2.0        204.0      True      True     False   \n",
       "\n",
       "   /m/019_rr  /m/02vxn  \n",
       "0      False      True  \n",
       "1      False      True  \n",
       "2      False      True  \n",
       "3      False      True  \n",
       "4      False      True  "
      ]
     },
     "execution_count": 15,
     "metadata": {},
     "output_type": "execute_result"
    }
   ],
   "source": [
    "## Pick only needed features and drop the rest\n",
    "data = df[['owned views','definition','category','licensedContent',\n",
    "          'country','Tags_count','Duration_Seconds',\n",
    "          'video_age','channel_age','/m/04rlf','/m/02jjt',\n",
    "          '/m/064t9','/m/019_rr','/m/02vxn']]\n",
    "\n",
    "data.head()"
   ]
  },
  {
   "cell_type": "markdown",
   "metadata": {},
   "source": [
    "## EDA"
   ]
  },
  {
   "cell_type": "code",
   "execution_count": 16,
   "metadata": {},
   "outputs": [
    {
     "data": {
      "text/plain": [
       "<matplotlib.axes._subplots.AxesSubplot at 0x1edda18b0f0>"
      ]
     },
     "execution_count": 16,
     "metadata": {},
     "output_type": "execute_result"
    },
    {
     "data": {
      "image/png": "[encoded data removed]",
      "text/plain": [
       "<Figure size 1080x288 with 1 Axes>"
      ]
     },
     "metadata": {
      "needs_background": "light"
     },
     "output_type": "display_data"
    }
   ],
   "source": [
    "plt.figure(figsize=(15,4)) \n",
    "sns.heatmap(data.isnull(),yticklabels=False,cbar=False,cmap='viridis')\n",
    "## We see a lot of missing values in 'definition', 'licensedContent', 'country', 'video_age' and 'channel_age'\n",
    "## We will treat them later by filling the missing values"
   ]
  },
  {
   "cell_type": "code",
   "execution_count": 17,
   "metadata": {},
   "outputs": [
    {
     "data": {
      "text/plain": [
       "<matplotlib.axes._subplots.AxesSubplot at 0x1edd9adf908>"
      ]
     },
     "execution_count": 17,
     "metadata": {},
     "output_type": "execute_result"
    },
    {
     "data": {
      "image/png": "[encoded data removed]",
      "text/plain": [
       "<Figure size 1080x288 with 1 Axes>"
      ]
     },
     "metadata": {
      "needs_background": "light"
     },
     "output_type": "display_data"
    }
   ],
   "source": [
    "plt.figure(figsize=(15,4)) \n",
    "data['video_age'].hist(bins=30,color='darkred',alpha=0.7)"
   ]
  },
  {
   "cell_type": "code",
   "execution_count": 18,
   "metadata": {},
   "outputs": [
    {
     "data": {
      "text/plain": [
       "<matplotlib.axes._subplots.AxesSubplot at 0x1edd9231978>"
      ]
     },
     "execution_count": 18,
     "metadata": {},
     "output_type": "execute_result"
    },
    {
     "data": {
      "image/png": "[encoded data removed]",
      "text/plain": [
       "<Figure size 1080x288 with 1 Axes>"
      ]
     },
     "metadata": {
      "needs_background": "light"
     },
     "output_type": "display_data"
    }
   ],
   "source": [
    "plt.figure(figsize=(15,4)) \n",
    "data['channel_age'].hist(bins=30,color='darkred',alpha=0.7)"
   ]
  },
  {
   "cell_type": "code",
   "execution_count": 19,
   "metadata": {},
   "outputs": [
    {
     "data": {
      "text/plain": [
       "<matplotlib.axes._subplots.AxesSubplot at 0x1edd9231748>"
      ]
     },
     "execution_count": 19,
     "metadata": {},
     "output_type": "execute_result"
    },
    {
     "data": {
      "image/png": "[encoded data removed]",
      "text/plain": [
       "<Figure size 1080x288 with 1 Axes>"
      ]
     },
     "metadata": {
      "needs_background": "light"
     },
     "output_type": "display_data"
    }
   ],
   "source": [
    "plt.figure(figsize=(15,4))\n",
    "data['owned views'].hist(bins=15,color='darkred',alpha=0.7)"
   ]
  },
  {
   "cell_type": "code",
   "execution_count": 20,
   "metadata": {},
   "outputs": [
    {
     "data": {
      "text/plain": [
       "<seaborn.axisgrid.JointGrid at 0x1edd99cbfd0>"
      ]
     },
     "execution_count": 20,
     "metadata": {},
     "output_type": "execute_result"
    },
    {
     "data": {
      "image/png": "[encoded data removed]",
      "text/plain": [
       "<Figure size 432x432 with 3 Axes>"
      ]
     },
     "metadata": {
      "needs_background": "light"
     },
     "output_type": "display_data"
    }
   ],
   "source": [
    "sns.jointplot(y='owned views',x='video_age',data=data)"
   ]
  },
  {
   "cell_type": "code",
   "execution_count": 21,
   "metadata": {},
   "outputs": [
    {
     "data": {
      "text/plain": [
       "<seaborn.axisgrid.JointGrid at 0x1edd9ef7240>"
      ]
     },
     "execution_count": 21,
     "metadata": {},
     "output_type": "execute_result"
    },
    {
     "data": {
      "image/png": "[encoded data removed]",
      "text/plain": [
       "<Figure size 432x432 with 3 Axes>"
      ]
     },
     "metadata": {
      "needs_background": "light"
     },
     "output_type": "display_data"
    }
   ],
   "source": [
    "sns.jointplot(y='owned views',x='channel_age',data=data)"
   ]
  },
  {
   "cell_type": "code",
   "execution_count": 22,
   "metadata": {},
   "outputs": [
    {
     "data": {
      "text/plain": [
       "<seaborn.axisgrid.JointGrid at 0x1edd8b2ba90>"
      ]
     },
     "execution_count": 22,
     "metadata": {},
     "output_type": "execute_result"
    },
    {
     "data": {
      "image/png": "[encoded data removed]",
      "text/plain": [
       "<Figure size 432x432 with 3 Axes>"
      ]
     },
     "metadata": {
      "needs_background": "light"
     },
     "output_type": "display_data"
    }
   ],
   "source": [
    "sns.jointplot(y='owned views',x='Tags_count',data=data)"
   ]
  },
  {
   "cell_type": "code",
   "execution_count": 23,
   "metadata": {},
   "outputs": [
    {
     "data": {
      "text/plain": [
       "<seaborn.axisgrid.JointGrid at 0x1edd8add0b8>"
      ]
     },
     "execution_count": 23,
     "metadata": {},
     "output_type": "execute_result"
    },
    {
     "data": {
      "image/png": "[encoded data removed]",
      "text/plain": [
       "<Figure size 432x432 with 3 Axes>"
      ]
     },
     "metadata": {
      "needs_background": "light"
     },
     "output_type": "display_data"
    }
   ],
   "source": [
    "sns.jointplot(y='owned views',x='Duration_Seconds',data=data)"
   ]
  },
  {
   "cell_type": "code",
   "execution_count": 24,
   "metadata": {},
   "outputs": [
    {
     "data": {
      "text/plain": [
       "<matplotlib.axes._subplots.AxesSubplot at 0x1ede1284a90>"
      ]
     },
     "execution_count": 24,
     "metadata": {},
     "output_type": "execute_result"
    },
    {
     "data": {
      "image/png": "[encoded data removed]",
      "text/plain": [
       "<Figure size 1080x288 with 1 Axes>"
      ]
     },
     "metadata": {
      "needs_background": "light"
     },
     "output_type": "display_data"
    }
   ],
   "source": [
    "plt.figure(figsize=(15,4)) \n",
    "sns.countplot(x='category',data=data,palette='RdBu_r')"
   ]
  },
  {
   "cell_type": "code",
   "execution_count": 25,
   "metadata": {},
   "outputs": [
    {
     "data": {
      "image/png": "[encoded data removed]",
      "text/plain": [
       "<Figure size 1080x288 with 1 Axes>"
      ]
     },
     "metadata": {
      "needs_background": "light"
     },
     "output_type": "display_data"
    }
   ],
   "source": [
    "plt.figure(figsize=(15,4)) \n",
    "ax = sns.countplot(x='country',data=data,palette='RdBu_r')\n",
    "ax.set_xticklabels(ax.get_xticklabels(), rotation=50, ha=\"right\")\n",
    "plt.tight_layout()"
   ]
  },
  {
   "cell_type": "code",
   "execution_count": 26,
   "metadata": {},
   "outputs": [
    {
     "data": {
      "text/plain": [
       "<matplotlib.axes._subplots.AxesSubplot at 0x1eddc1c85f8>"
      ]
     },
     "execution_count": 26,
     "metadata": {},
     "output_type": "execute_result"
    },
    {
     "data": {
      "image/png": "[encoded data removed]",
      "text/plain": [
       "<Figure size 432x288 with 1 Axes>"
      ]
     },
     "metadata": {
      "needs_background": "light"
     },
     "output_type": "display_data"
    }
   ],
   "source": [
    "sns.countplot(x='definition',data=data,palette='RdBu_r')"
   ]
  },
  {
   "cell_type": "code",
   "execution_count": 27,
   "metadata": {},
   "outputs": [
    {
     "data": {
      "text/plain": [
       "<matplotlib.axes._subplots.AxesSubplot at 0x1edd9cd3c50>"
      ]
     },
     "execution_count": 27,
     "metadata": {},
     "output_type": "execute_result"
    },
    {
     "data": {
      "image/png": "[encoded data removed]",
      "text/plain": [
       "<Figure size 432x288 with 1 Axes>"
      ]
     },
     "metadata": {
      "needs_background": "light"
     },
     "output_type": "display_data"
    }
   ],
   "source": [
    "sns.countplot(x='licensedContent',data=data,palette='RdBu_r')"
   ]
  },
  {
   "cell_type": "code",
   "execution_count": 28,
   "metadata": {},
   "outputs": [
    {
     "data": {
      "text/plain": [
       "<matplotlib.axes._subplots.AxesSubplot at 0x1edd62e5518>"
      ]
     },
     "execution_count": 28,
     "metadata": {},
     "output_type": "execute_result"
    },
    {
     "data": {
      "image/png": "[encoded data removed]",
      "text/plain": [
       "<Figure size 432x288 with 1 Axes>"
      ]
     },
     "metadata": {
      "needs_background": "light"
     },
     "output_type": "display_data"
    }
   ],
   "source": [
    "sns.countplot(x='/m/04rlf',data=data,palette='RdBu_r') "
   ]
  },
  {
   "cell_type": "code",
   "execution_count": 29,
   "metadata": {},
   "outputs": [
    {
     "data": {
      "text/plain": [
       "<matplotlib.axes._subplots.AxesSubplot at 0x1edd6ed6ba8>"
      ]
     },
     "execution_count": 29,
     "metadata": {},
     "output_type": "execute_result"
    },
    {
     "data": {
      "image/png": "[encoded data removed]",
      "text/plain": [
       "<Figure size 432x288 with 1 Axes>"
      ]
     },
     "metadata": {
      "needs_background": "light"
     },
     "output_type": "display_data"
    }
   ],
   "source": [
    "sns.countplot(x='/m/02jjt',data=data,palette='RdBu_r')"
   ]
  },
  {
   "cell_type": "code",
   "execution_count": 30,
   "metadata": {},
   "outputs": [
    {
     "data": {
      "text/plain": [
       "<matplotlib.axes._subplots.AxesSubplot at 0x1edd6429c18>"
      ]
     },
     "execution_count": 30,
     "metadata": {},
     "output_type": "execute_result"
    },
    {
     "data": {
      "image/png": "[encoded data removed]",
      "text/plain": [
       "<Figure size 432x288 with 1 Axes>"
      ]
     },
     "metadata": {
      "needs_background": "light"
     },
     "output_type": "display_data"
    }
   ],
   "source": [
    "sns.countplot(x='/m/064t9',data=data,palette='RdBu_r') "
   ]
  },
  {
   "cell_type": "code",
   "execution_count": 31,
   "metadata": {},
   "outputs": [
    {
     "data": {
      "text/plain": [
       "<matplotlib.axes._subplots.AxesSubplot at 0x1edd5fad5c0>"
      ]
     },
     "execution_count": 31,
     "metadata": {},
     "output_type": "execute_result"
    },
    {
     "data": {
      "image/png": "[encoded data removed]",
      "text/plain": [
       "<Figure size 432x288 with 1 Axes>"
      ]
     },
     "metadata": {
      "needs_background": "light"
     },
     "output_type": "display_data"
    }
   ],
   "source": [
    "sns.countplot(x='/m/019_rr',data=data,palette='RdBu_r')"
   ]
  },
  {
   "cell_type": "code",
   "execution_count": 32,
   "metadata": {},
   "outputs": [
    {
     "data": {
      "text/plain": [
       "<matplotlib.axes._subplots.AxesSubplot at 0x1edd6320c18>"
      ]
     },
     "execution_count": 32,
     "metadata": {},
     "output_type": "execute_result"
    },
    {
     "data": {
      "image/png": "[encoded data removed]",
      "text/plain": [
       "<Figure size 432x288 with 1 Axes>"
      ]
     },
     "metadata": {
      "needs_background": "light"
     },
     "output_type": "display_data"
    }
   ],
   "source": [
    "sns.countplot(x='/m/02vxn',data=data,palette='RdBu_r') "
   ]
  },
  {
   "cell_type": "code",
   "execution_count": 33,
   "metadata": {},
   "outputs": [
    {
     "data": {
      "text/plain": [
       "<matplotlib.axes._subplots.AxesSubplot at 0x1eddc913b38>"
      ]
     },
     "execution_count": 33,
     "metadata": {},
     "output_type": "execute_result"
    },
    {
     "data": {
      "image/png": "[encoded data removed]",
      "text/plain": [
       "<Figure size 1080x288 with 1 Axes>"
      ]
     },
     "metadata": {
      "needs_background": "light"
     },
     "output_type": "display_data"
    }
   ],
   "source": [
    "plt.figure(figsize=(15, 4))\n",
    "sns.boxplot(x='category',y='owned views',data=data,palette='winter')"
   ]
  },
  {
   "cell_type": "code",
   "execution_count": 34,
   "metadata": {
    "scrolled": true
   },
   "outputs": [
    {
     "data": {
      "image/png": "[encoded data removed]",
      "text/plain": [
       "<Figure size 1080x288 with 1 Axes>"
      ]
     },
     "metadata": {
      "needs_background": "light"
     },
     "output_type": "display_data"
    }
   ],
   "source": [
    "plt.figure(figsize=(15, 4))\n",
    "ax=sns.boxplot(x='country',y='owned views',data=data,palette='winter')\n",
    "ax.set_xticklabels(ax.get_xticklabels(), rotation=50, ha=\"right\")\n",
    "plt.tight_layout()"
   ]
  },
  {
   "cell_type": "markdown",
   "metadata": {},
   "source": [
    "## Issues in the data\n",
    "  1. Missing values\n",
    "  2. Categorical features with a lot of categories but few observations for some of these categories\n",
    "  3. Outliers-Videos with more than 1M views (see boxplot above)"
   ]
  },
  {
   "cell_type": "markdown",
   "metadata": {},
   "source": [
    "### Missing values treatment"
   ]
  },
  {
   "cell_type": "code",
   "execution_count": 35,
   "metadata": {},
   "outputs": [
    {
     "name": "stderr",
     "output_type": "stream",
     "text": [
      "C:\\Users\\g.baras\\AppData\\Local\\Continuum\\anaconda3\\lib\\site-packages\\pandas\\core\\indexing.py:543: SettingWithCopyWarning: \n",
      "A value is trying to be set on a copy of a slice from a DataFrame.\n",
      "Try using .loc[row_indexer,col_indexer] = value instead\n",
      "\n",
      "See the caveats in the documentation: http://pandas.pydata.org/pandas-docs/stable/indexing.html#indexing-view-versus-copy\n",
      "  self.obj[item] = s\n"
     ]
    }
   ],
   "source": [
    "## We fill the missing values in age columns with the mean of each column\n",
    "data.loc[df['video_age'].isnull()==True, 'video_age'] = df['video_age'].mean()\n",
    "data.loc[df['channel_age'].isnull()==True, 'channel_age'] = df['channel_age'].mean()\n",
    "\n",
    "## Countries with no info\n",
    "data.loc[df['country'].isnull()==True, 'country'] ='no_country'\n",
    "\n",
    "## For licensedContent and definition columns we are using the most frequent data in the column in order to fill the missing info\n",
    "## which is 'False' and 'hd' respectively \n",
    "data.loc[df['licensedContent'].isnull()==True, 'licensedContent'] =False\n",
    "data.loc[df['definition'].isnull()==True, 'definition'] ='hd'"
   ]
  },
  {
   "cell_type": "markdown",
   "metadata": {},
   "source": [
    "### Reduce categories for categorical features"
   ]
  },
  {
   "cell_type": "code",
   "execution_count": 36,
   "metadata": {},
   "outputs": [
    {
     "data": {
      "text/plain": [
       "entertainment    0.306198\n",
       "music            0.259609\n",
       "people           0.174713\n",
       "film             0.069126\n",
       "gadgets          0.067018\n",
       "comedy           0.053455\n",
       "nonprofits       0.022447\n",
       "howto            0.020463\n",
       "sports           0.012454\n",
       "education        0.006453\n",
       "vehicles         0.002854\n",
       "travel           0.001780\n",
       "science          0.001278\n",
       "news             0.001163\n",
       "animals          0.000989\n",
       "Name: category, dtype: float64"
      ]
     },
     "execution_count": 36,
     "metadata": {},
     "output_type": "execute_result"
    }
   ],
   "source": [
    "data['category'].value_counts(normalize=True)"
   ]
  },
  {
   "cell_type": "code",
   "execution_count": 37,
   "metadata": {},
   "outputs": [
    {
     "name": "stderr",
     "output_type": "stream",
     "text": [
      "C:\\Users\\g.baras\\AppData\\Local\\Continuum\\anaconda3\\lib\\site-packages\\ipykernel_launcher.py:23: SettingWithCopyWarning: \n",
      "A value is trying to be set on a copy of a slice from a DataFrame.\n",
      "Try using .loc[row_indexer,col_indexer] = value instead\n",
      "\n",
      "See the caveats in the documentation: http://pandas.pydata.org/pandas-docs/stable/indexing.html#indexing-view-versus-copy\n"
     ]
    },
    {
     "data": {
      "text/plain": [
       "entertainment    0.306198\n",
       "music            0.259609\n",
       "Other            0.259480\n",
       "people           0.174713\n",
       "Name: category, dtype: float64"
      ]
     },
     "execution_count": 37,
     "metadata": {},
     "output_type": "execute_result"
    }
   ],
   "source": [
    "## We see that all categories apart from entertainment,music & people are less than 7% of the total observations\n",
    "## so we put them in a category called 'Other'\n",
    "\n",
    "mapping = {\n",
    "        'entertainment': 'entertainment',\n",
    "        'music'        : 'music',\n",
    "        'people'       : 'people',\n",
    "        'film'         : 'Other',            \n",
    "        'gadgets'      : 'Other',    \n",
    "        'comedy'       : 'Other',    \n",
    "        'nonprofits'   : 'Other',    \n",
    "        'howto'        : 'Other',    \n",
    "        'sports'       : 'Other',    \n",
    "        'education'    : 'Other',    \n",
    "        'vehicles'     : 'Other',    \n",
    "        'travel'       : 'Other',    \n",
    "        'science'      : 'Other',    \n",
    "        'news'         : 'Other',    \n",
    "        'animals'      : 'Other'  \n",
    "        \n",
    "        }\n",
    "\n",
    "data['category']=data['category'].replace(mapping)\n",
    "data['category'].value_counts(normalize=True)"
   ]
  },
  {
   "cell_type": "code",
   "execution_count": 38,
   "metadata": {},
   "outputs": [
    {
     "data": {
      "text/plain": [
       "US            0.370715\n",
       "no_country    0.301908\n",
       "GB            0.050457\n",
       "ID            0.024426\n",
       "BR            0.023486\n",
       "CA            0.023292\n",
       "AU            0.015879\n",
       "RU            0.015536\n",
       "IN            0.012688\n",
       "ES            0.011639\n",
       "KR            0.010326\n",
       "DE            0.009869\n",
       "PH            0.009058\n",
       "IT            0.007945\n",
       "NL            0.007617\n",
       "MX            0.006965\n",
       "JP            0.006911\n",
       "VN            0.006756\n",
       "PL            0.006503\n",
       "FR            0.005961\n",
       "AR            0.004067\n",
       "MY            0.003923\n",
       "CO            0.003535\n",
       "SE            0.003505\n",
       "PE            0.003351\n",
       "UA            0.002645\n",
       "TH            0.002526\n",
       "ZA            0.002411\n",
       "IE            0.002366\n",
       "SA            0.002262\n",
       "                ...   \n",
       "NC            0.000273\n",
       "NP            0.000249\n",
       "NI            0.000229\n",
       "MC            0.000219\n",
       "VE            0.000209\n",
       "SI            0.000194\n",
       "GH            0.000194\n",
       "BT            0.000169\n",
       "AM            0.000149\n",
       "BD            0.000149\n",
       "NG            0.000129\n",
       "BO            0.000104\n",
       "MK            0.000089\n",
       "SY            0.000089\n",
       "RE            0.000075\n",
       "LY            0.000070\n",
       "BY            0.000060\n",
       "KE            0.000055\n",
       "AD            0.000045\n",
       "KG            0.000040\n",
       "LB            0.000040\n",
       "VA            0.000035\n",
       "HN            0.000030\n",
       "MN            0.000030\n",
       "PA            0.000030\n",
       "AQ            0.000025\n",
       "TN            0.000025\n",
       "PR            0.000025\n",
       "KH            0.000025\n",
       "CR            0.000010\n",
       "Name: country, Length: 104, dtype: float64"
      ]
     },
     "execution_count": 38,
     "metadata": {},
     "output_type": "execute_result"
    }
   ],
   "source": [
    "data['country'].value_counts(normalize=True)"
   ]
  },
  {
   "cell_type": "code",
   "execution_count": 39,
   "metadata": {},
   "outputs": [
    {
     "data": {
      "text/plain": [
       "US            0.370715\n",
       "Other         0.327377\n",
       "no_country    0.301908\n",
       "Name: country, dtype: float64"
      ]
     },
     "execution_count": 39,
     "metadata": {},
     "output_type": "execute_result"
    }
   ],
   "source": [
    "## We see that all countries apart from US & no_country are less than 5% of the total observations\n",
    "## so we put them in a category called 'Other'\n",
    "\n",
    "data.loc[(data['country'] != 'US') & (data['country'] !='no_country'), 'country'] = 'Other'\n",
    "data['country'].value_counts(normalize=True)"
   ]
  },
  {
   "cell_type": "markdown",
   "metadata": {},
   "source": [
    "### Remove outliers"
   ]
  },
  {
   "cell_type": "code",
   "execution_count": 40,
   "metadata": {},
   "outputs": [
    {
     "data": {
      "text/plain": [
       "count    201132.000000\n",
       "mean       1748.873869\n",
       "std       15678.504716\n",
       "min           0.000000\n",
       "25%           6.000000\n",
       "50%          39.000000\n",
       "75%         290.000000\n",
       "max      951656.000000\n",
       "Name: owned views, dtype: float64"
      ]
     },
     "execution_count": 40,
     "metadata": {},
     "output_type": "execute_result"
    }
   ],
   "source": [
    "data=data[data['owned views']<1000000]\n",
    "data['owned views'].describe()"
   ]
  },
  {
   "cell_type": "markdown",
   "metadata": {},
   "source": [
    "## Encode Categorical Features"
   ]
  },
  {
   "cell_type": "code",
   "execution_count": 41,
   "metadata": {},
   "outputs": [
    {
     "data": {
      "text/html": [
       "<div>\n",
       "<style scoped>\n",
       "    .dataframe tbody tr th:only-of-type {\n",
       "        vertical-align: middle;\n",
       "    }\n",
       "\n",
       "    .dataframe tbody tr th {\n",
       "        vertical-align: top;\n",
       "    }\n",
       "\n",
       "    .dataframe thead th {\n",
       "        text-align: right;\n",
       "    }\n",
       "</style>\n",
       "<table border=\"1\" class=\"dataframe\">\n",
       "  <thead>\n",
       "    <tr style=\"text-align: right;\">\n",
       "      <th></th>\n",
       "      <th>owned views</th>\n",
       "      <th>Tags_count</th>\n",
       "      <th>Duration_Seconds</th>\n",
       "      <th>video_age</th>\n",
       "      <th>channel_age</th>\n",
       "      <th>/m/04rlf</th>\n",
       "      <th>/m/02jjt</th>\n",
       "      <th>/m/064t9</th>\n",
       "      <th>/m/019_rr</th>\n",
       "      <th>/m/02vxn</th>\n",
       "      <th>...</th>\n",
       "      <th>definition__sd</th>\n",
       "      <th>category__Other</th>\n",
       "      <th>category__entertainment</th>\n",
       "      <th>category__music</th>\n",
       "      <th>category__people</th>\n",
       "      <th>licensedContent__False</th>\n",
       "      <th>licensedContent__True</th>\n",
       "      <th>country__Other</th>\n",
       "      <th>country__US</th>\n",
       "      <th>country__no_country</th>\n",
       "    </tr>\n",
       "  </thead>\n",
       "  <tbody>\n",
       "    <tr>\n",
       "      <th>0</th>\n",
       "      <td>2.0</td>\n",
       "      <td>11</td>\n",
       "      <td>171</td>\n",
       "      <td>26.0</td>\n",
       "      <td>228.0</td>\n",
       "      <td>True</td>\n",
       "      <td>True</td>\n",
       "      <td>False</td>\n",
       "      <td>False</td>\n",
       "      <td>True</td>\n",
       "      <td>...</td>\n",
       "      <td>0</td>\n",
       "      <td>1</td>\n",
       "      <td>0</td>\n",
       "      <td>0</td>\n",
       "      <td>0</td>\n",
       "      <td>1</td>\n",
       "      <td>0</td>\n",
       "      <td>1</td>\n",
       "      <td>0</td>\n",
       "      <td>0</td>\n",
       "    </tr>\n",
       "    <tr>\n",
       "      <th>1</th>\n",
       "      <td>12.0</td>\n",
       "      <td>11</td>\n",
       "      <td>171</td>\n",
       "      <td>6.0</td>\n",
       "      <td>208.0</td>\n",
       "      <td>True</td>\n",
       "      <td>True</td>\n",
       "      <td>False</td>\n",
       "      <td>False</td>\n",
       "      <td>True</td>\n",
       "      <td>...</td>\n",
       "      <td>0</td>\n",
       "      <td>1</td>\n",
       "      <td>0</td>\n",
       "      <td>0</td>\n",
       "      <td>0</td>\n",
       "      <td>1</td>\n",
       "      <td>0</td>\n",
       "      <td>1</td>\n",
       "      <td>0</td>\n",
       "      <td>0</td>\n",
       "    </tr>\n",
       "    <tr>\n",
       "      <th>2</th>\n",
       "      <td>80.0</td>\n",
       "      <td>11</td>\n",
       "      <td>171</td>\n",
       "      <td>0.0</td>\n",
       "      <td>202.0</td>\n",
       "      <td>True</td>\n",
       "      <td>True</td>\n",
       "      <td>False</td>\n",
       "      <td>False</td>\n",
       "      <td>True</td>\n",
       "      <td>...</td>\n",
       "      <td>0</td>\n",
       "      <td>1</td>\n",
       "      <td>0</td>\n",
       "      <td>0</td>\n",
       "      <td>0</td>\n",
       "      <td>1</td>\n",
       "      <td>0</td>\n",
       "      <td>1</td>\n",
       "      <td>0</td>\n",
       "      <td>0</td>\n",
       "    </tr>\n",
       "    <tr>\n",
       "      <th>3</th>\n",
       "      <td>3.0</td>\n",
       "      <td>11</td>\n",
       "      <td>171</td>\n",
       "      <td>20.0</td>\n",
       "      <td>222.0</td>\n",
       "      <td>True</td>\n",
       "      <td>True</td>\n",
       "      <td>False</td>\n",
       "      <td>False</td>\n",
       "      <td>True</td>\n",
       "      <td>...</td>\n",
       "      <td>0</td>\n",
       "      <td>1</td>\n",
       "      <td>0</td>\n",
       "      <td>0</td>\n",
       "      <td>0</td>\n",
       "      <td>1</td>\n",
       "      <td>0</td>\n",
       "      <td>1</td>\n",
       "      <td>0</td>\n",
       "      <td>0</td>\n",
       "    </tr>\n",
       "    <tr>\n",
       "      <th>4</th>\n",
       "      <td>83.0</td>\n",
       "      <td>11</td>\n",
       "      <td>171</td>\n",
       "      <td>2.0</td>\n",
       "      <td>204.0</td>\n",
       "      <td>True</td>\n",
       "      <td>True</td>\n",
       "      <td>False</td>\n",
       "      <td>False</td>\n",
       "      <td>True</td>\n",
       "      <td>...</td>\n",
       "      <td>0</td>\n",
       "      <td>1</td>\n",
       "      <td>0</td>\n",
       "      <td>0</td>\n",
       "      <td>0</td>\n",
       "      <td>1</td>\n",
       "      <td>0</td>\n",
       "      <td>1</td>\n",
       "      <td>0</td>\n",
       "      <td>0</td>\n",
       "    </tr>\n",
       "  </tbody>\n",
       "</table>\n",
       "<p>5 rows × 21 columns</p>\n",
       "</div>"
      ],
      "text/plain": [
       "   owned views  Tags_count  Duration_Seconds  video_age  channel_age  \\\n",
       "0          2.0          11               171       26.0        228.0   \n",
       "1         12.0          11               171        6.0        208.0   \n",
       "2         80.0          11               171        0.0        202.0   \n",
       "3          3.0          11               171       20.0        222.0   \n",
       "4         83.0          11               171        2.0        204.0   \n",
       "\n",
       "   /m/04rlf  /m/02jjt  /m/064t9  /m/019_rr  /m/02vxn  ...  definition__sd  \\\n",
       "0      True      True     False      False      True  ...               0   \n",
       "1      True      True     False      False      True  ...               0   \n",
       "2      True      True     False      False      True  ...               0   \n",
       "3      True      True     False      False      True  ...               0   \n",
       "4      True      True     False      False      True  ...               0   \n",
       "\n",
       "   category__Other  category__entertainment  category__music  \\\n",
       "0                1                        0                0   \n",
       "1                1                        0                0   \n",
       "2                1                        0                0   \n",
       "3                1                        0                0   \n",
       "4                1                        0                0   \n",
       "\n",
       "   category__people  licensedContent__False  licensedContent__True  \\\n",
       "0                 0                       1                      0   \n",
       "1                 0                       1                      0   \n",
       "2                 0                       1                      0   \n",
       "3                 0                       1                      0   \n",
       "4                 0                       1                      0   \n",
       "\n",
       "   country__Other  country__US  country__no_country  \n",
       "0               1            0                    0  \n",
       "1               1            0                    0  \n",
       "2               1            0                    0  \n",
       "3               1            0                    0  \n",
       "4               1            0                    0  \n",
       "\n",
       "[5 rows x 21 columns]"
      ]
     },
     "execution_count": 41,
     "metadata": {},
     "output_type": "execute_result"
    }
   ],
   "source": [
    "#define the list of categorical features for one hot encoding\n",
    "cat_columns = [\"definition\", \"category\", \"licensedContent\", \"country\"]\n",
    "data = pd.get_dummies(data, prefix_sep=\"__\",\n",
    "                             columns=cat_columns)\n",
    "data.head()"
   ]
  },
  {
   "cell_type": "markdown",
   "metadata": {},
   "source": [
    "# Regression Model"
   ]
  },
  {
   "cell_type": "code",
   "execution_count": 42,
   "metadata": {},
   "outputs": [],
   "source": [
    "## Train Test Split\n",
    "X=data.loc[:, data.columns != 'owned views']\n",
    "y=data.iloc[:,data.columns=='owned views']\n",
    "\n",
    "data_dmatrix = xgboost.DMatrix(data=X,label=y)\n",
    "X_train, X_test, y_train, y_test = train_test_split(X, y, test_size=0.2, random_state=123)"
   ]
  },
  {
   "cell_type": "code",
   "execution_count": 43,
   "metadata": {},
   "outputs": [
    {
     "name": "stdout",
     "output_type": "stream",
     "text": [
      "XGBRegressor's RMSE is: 9905.52\n",
      "Time consumed for training: 86.548 seconds\n",
      "Time consumed for prediction: 2.50079 seconds\n"
     ]
    }
   ],
   "source": [
    "## XGBoost for regression\n",
    "xg_reg = xgboost.XGBRegressor(objective ='reg:squarederror', \n",
    "                              colsample_bytree = 0.3, \n",
    "                              learning_rate = 0.1,\n",
    "                              max_depth = 10, \n",
    "                              alpha = 10, \n",
    "                              n_estimators = 500)\n",
    "training_start = time.perf_counter()\n",
    "xg_reg.fit(X_train,y_train)\n",
    "training_end = time.perf_counter()\n",
    "prediction_start = time.perf_counter()\n",
    "preds = xg_reg.predict(X_test)\n",
    "prediction_end = time.perf_counter()\n",
    "xgbR_train_time = training_end-training_start\n",
    "xgbR_prediction_time = prediction_end-prediction_start\n",
    "rmse = np.sqrt(mean_squared_error(y_test, preds))\n",
    "print(\"XGBRegressor's RMSE is: %3.2f\" % (rmse))\n",
    "print(\"Time consumed for training: %4.3f seconds\" % (xgbR_train_time))\n",
    "print(\"Time consumed for prediction: %6.5f seconds\" % (xgbR_prediction_time))"
   ]
  },
  {
   "cell_type": "markdown",
   "metadata": {},
   "source": [
    "## k-fold Cross Validation"
   ]
  },
  {
   "cell_type": "code",
   "execution_count": 44,
   "metadata": {},
   "outputs": [
    {
     "data": {
      "text/html": [
       "<div>\n",
       "<style scoped>\n",
       "    .dataframe tbody tr th:only-of-type {\n",
       "        vertical-align: middle;\n",
       "    }\n",
       "\n",
       "    .dataframe tbody tr th {\n",
       "        vertical-align: top;\n",
       "    }\n",
       "\n",
       "    .dataframe thead th {\n",
       "        text-align: right;\n",
       "    }\n",
       "</style>\n",
       "<table border=\"1\" class=\"dataframe\">\n",
       "  <thead>\n",
       "    <tr style=\"text-align: right;\">\n",
       "      <th></th>\n",
       "      <th>train-rmse-mean</th>\n",
       "      <th>train-rmse-std</th>\n",
       "      <th>test-rmse-mean</th>\n",
       "      <th>test-rmse-std</th>\n",
       "    </tr>\n",
       "  </thead>\n",
       "  <tbody>\n",
       "    <tr>\n",
       "      <th>count</th>\n",
       "      <td>100.000000</td>\n",
       "      <td>100.000000</td>\n",
       "      <td>100.000000</td>\n",
       "      <td>100.000000</td>\n",
       "    </tr>\n",
       "    <tr>\n",
       "      <th>mean</th>\n",
       "      <td>9461.844203</td>\n",
       "      <td>848.766225</td>\n",
       "      <td>12086.495013</td>\n",
       "      <td>743.292537</td>\n",
       "    </tr>\n",
       "    <tr>\n",
       "      <th>std</th>\n",
       "      <td>2221.792209</td>\n",
       "      <td>182.128621</td>\n",
       "      <td>1206.975244</td>\n",
       "      <td>163.158782</td>\n",
       "    </tr>\n",
       "    <tr>\n",
       "      <th>min</th>\n",
       "      <td>6958.818197</td>\n",
       "      <td>485.727947</td>\n",
       "      <td>10844.263672</td>\n",
       "      <td>562.967458</td>\n",
       "    </tr>\n",
       "    <tr>\n",
       "      <th>25%</th>\n",
       "      <td>7654.194946</td>\n",
       "      <td>677.279903</td>\n",
       "      <td>11156.721110</td>\n",
       "      <td>642.723718</td>\n",
       "    </tr>\n",
       "    <tr>\n",
       "      <th>50%</th>\n",
       "      <td>8850.564535</td>\n",
       "      <td>869.886446</td>\n",
       "      <td>11704.192871</td>\n",
       "      <td>689.262183</td>\n",
       "    </tr>\n",
       "    <tr>\n",
       "      <th>75%</th>\n",
       "      <td>10591.062500</td>\n",
       "      <td>1000.384127</td>\n",
       "      <td>12634.277751</td>\n",
       "      <td>768.524756</td>\n",
       "    </tr>\n",
       "    <tr>\n",
       "      <th>max</th>\n",
       "      <td>15175.310873</td>\n",
       "      <td>1112.479473</td>\n",
       "      <td>15496.368490</td>\n",
       "      <td>1326.487250</td>\n",
       "    </tr>\n",
       "  </tbody>\n",
       "</table>\n",
       "</div>"
      ],
      "text/plain": [
       "       train-rmse-mean  train-rmse-std  test-rmse-mean  test-rmse-std\n",
       "count       100.000000      100.000000      100.000000     100.000000\n",
       "mean       9461.844203      848.766225    12086.495013     743.292537\n",
       "std        2221.792209      182.128621     1206.975244     163.158782\n",
       "min        6958.818197      485.727947    10844.263672     562.967458\n",
       "25%        7654.194946      677.279903    11156.721110     642.723718\n",
       "50%        8850.564535      869.886446    11704.192871     689.262183\n",
       "75%       10591.062500     1000.384127    12634.277751     768.524756\n",
       "max       15175.310873     1112.479473    15496.368490    1326.487250"
      ]
     },
     "execution_count": 44,
     "metadata": {},
     "output_type": "execute_result"
    }
   ],
   "source": [
    "params = {\"objective\":\"reg:squarederror\",'colsample_bytree': 0.3,'learning_rate': 0.1,\n",
    "                'max_depth': 10, 'alpha': 10, 'n_estimators' : 500}\n",
    "\n",
    "cv_results = xgboost.cv(dtrain=data_dmatrix, params=params, nfold=3,\n",
    "                    num_boost_round=100,early_stopping_rounds=20,metrics=\"rmse\", as_pandas=True, seed=123)\n",
    "\n",
    "cv_results.describe()"
   ]
  },
  {
   "cell_type": "markdown",
   "metadata": {},
   "source": [
    "\n",
    "### NOTES: \n",
    "-Despite the tuning the RMSE from the regression model is not acceptable since the 70% of the observations are between 0-200 views and the RMSE is 9900. \n",
    "-It is also very obvious from the EDA that 'owned views' doesn't have linear relationships with the features of the data set\n",
    "\n",
    "## Below we will approach the problem as a classification problem by creating view classes\n"
   ]
  },
  {
   "cell_type": "code",
   "execution_count": 45,
   "metadata": {},
   "outputs": [
    {
     "data": {
      "text/plain": [
       "1    0.312054\n",
       "2    0.223366\n",
       "3    0.174363\n",
       "4    0.153372\n",
       "5    0.136845\n",
       "Name: views_Class, dtype: float64"
      ]
     },
     "execution_count": 45,
     "metadata": {},
     "output_type": "execute_result"
    }
   ],
   "source": [
    "## Create classes for views\n",
    "def viewClasses(x):\n",
    "    if x<=10:      # '0-10'\n",
    "        return 1 \n",
    "    elif x<=50:    # '10-50'\n",
    "        return 2 \n",
    "    elif x<=200:   # '50-200'\n",
    "        return 3  \n",
    "    elif x<= 1000: # '200-1K'\n",
    "        return 4\n",
    "    elif x> 1000:  # '1K+'\n",
    "        return 5\n",
    "    \n",
    "data['views_Class'] =  data['owned views'].apply(lambda x: viewClasses(x)) \n",
    "data['views_Class'].value_counts(normalize=True)"
   ]
  },
  {
   "cell_type": "code",
   "execution_count": 46,
   "metadata": {},
   "outputs": [
    {
     "data": {
      "text/html": [
       "<div>\n",
       "<style scoped>\n",
       "    .dataframe tbody tr th:only-of-type {\n",
       "        vertical-align: middle;\n",
       "    }\n",
       "\n",
       "    .dataframe tbody tr th {\n",
       "        vertical-align: top;\n",
       "    }\n",
       "\n",
       "    .dataframe thead th {\n",
       "        text-align: right;\n",
       "    }\n",
       "</style>\n",
       "<table border=\"1\" class=\"dataframe\">\n",
       "  <thead>\n",
       "    <tr style=\"text-align: right;\">\n",
       "      <th></th>\n",
       "      <th>Tags_count</th>\n",
       "      <th>Duration_Seconds</th>\n",
       "      <th>video_age</th>\n",
       "      <th>channel_age</th>\n",
       "      <th>/m/04rlf</th>\n",
       "      <th>/m/02jjt</th>\n",
       "      <th>/m/064t9</th>\n",
       "      <th>/m/019_rr</th>\n",
       "      <th>/m/02vxn</th>\n",
       "      <th>definition__hd</th>\n",
       "      <th>...</th>\n",
       "      <th>category__Other</th>\n",
       "      <th>category__entertainment</th>\n",
       "      <th>category__music</th>\n",
       "      <th>category__people</th>\n",
       "      <th>licensedContent__False</th>\n",
       "      <th>licensedContent__True</th>\n",
       "      <th>country__Other</th>\n",
       "      <th>country__US</th>\n",
       "      <th>country__no_country</th>\n",
       "      <th>views_Class</th>\n",
       "    </tr>\n",
       "  </thead>\n",
       "  <tbody>\n",
       "    <tr>\n",
       "      <th>0</th>\n",
       "      <td>11</td>\n",
       "      <td>171</td>\n",
       "      <td>26.0</td>\n",
       "      <td>228.0</td>\n",
       "      <td>True</td>\n",
       "      <td>True</td>\n",
       "      <td>False</td>\n",
       "      <td>False</td>\n",
       "      <td>True</td>\n",
       "      <td>1</td>\n",
       "      <td>...</td>\n",
       "      <td>1</td>\n",
       "      <td>0</td>\n",
       "      <td>0</td>\n",
       "      <td>0</td>\n",
       "      <td>1</td>\n",
       "      <td>0</td>\n",
       "      <td>1</td>\n",
       "      <td>0</td>\n",
       "      <td>0</td>\n",
       "      <td>1</td>\n",
       "    </tr>\n",
       "    <tr>\n",
       "      <th>1</th>\n",
       "      <td>11</td>\n",
       "      <td>171</td>\n",
       "      <td>6.0</td>\n",
       "      <td>208.0</td>\n",
       "      <td>True</td>\n",
       "      <td>True</td>\n",
       "      <td>False</td>\n",
       "      <td>False</td>\n",
       "      <td>True</td>\n",
       "      <td>1</td>\n",
       "      <td>...</td>\n",
       "      <td>1</td>\n",
       "      <td>0</td>\n",
       "      <td>0</td>\n",
       "      <td>0</td>\n",
       "      <td>1</td>\n",
       "      <td>0</td>\n",
       "      <td>1</td>\n",
       "      <td>0</td>\n",
       "      <td>0</td>\n",
       "      <td>2</td>\n",
       "    </tr>\n",
       "    <tr>\n",
       "      <th>2</th>\n",
       "      <td>11</td>\n",
       "      <td>171</td>\n",
       "      <td>0.0</td>\n",
       "      <td>202.0</td>\n",
       "      <td>True</td>\n",
       "      <td>True</td>\n",
       "      <td>False</td>\n",
       "      <td>False</td>\n",
       "      <td>True</td>\n",
       "      <td>1</td>\n",
       "      <td>...</td>\n",
       "      <td>1</td>\n",
       "      <td>0</td>\n",
       "      <td>0</td>\n",
       "      <td>0</td>\n",
       "      <td>1</td>\n",
       "      <td>0</td>\n",
       "      <td>1</td>\n",
       "      <td>0</td>\n",
       "      <td>0</td>\n",
       "      <td>3</td>\n",
       "    </tr>\n",
       "    <tr>\n",
       "      <th>3</th>\n",
       "      <td>11</td>\n",
       "      <td>171</td>\n",
       "      <td>20.0</td>\n",
       "      <td>222.0</td>\n",
       "      <td>True</td>\n",
       "      <td>True</td>\n",
       "      <td>False</td>\n",
       "      <td>False</td>\n",
       "      <td>True</td>\n",
       "      <td>1</td>\n",
       "      <td>...</td>\n",
       "      <td>1</td>\n",
       "      <td>0</td>\n",
       "      <td>0</td>\n",
       "      <td>0</td>\n",
       "      <td>1</td>\n",
       "      <td>0</td>\n",
       "      <td>1</td>\n",
       "      <td>0</td>\n",
       "      <td>0</td>\n",
       "      <td>1</td>\n",
       "    </tr>\n",
       "    <tr>\n",
       "      <th>4</th>\n",
       "      <td>11</td>\n",
       "      <td>171</td>\n",
       "      <td>2.0</td>\n",
       "      <td>204.0</td>\n",
       "      <td>True</td>\n",
       "      <td>True</td>\n",
       "      <td>False</td>\n",
       "      <td>False</td>\n",
       "      <td>True</td>\n",
       "      <td>1</td>\n",
       "      <td>...</td>\n",
       "      <td>1</td>\n",
       "      <td>0</td>\n",
       "      <td>0</td>\n",
       "      <td>0</td>\n",
       "      <td>1</td>\n",
       "      <td>0</td>\n",
       "      <td>1</td>\n",
       "      <td>0</td>\n",
       "      <td>0</td>\n",
       "      <td>3</td>\n",
       "    </tr>\n",
       "  </tbody>\n",
       "</table>\n",
       "<p>5 rows × 21 columns</p>\n",
       "</div>"
      ],
      "text/plain": [
       "   Tags_count  Duration_Seconds  video_age  channel_age  /m/04rlf  /m/02jjt  \\\n",
       "0          11               171       26.0        228.0      True      True   \n",
       "1          11               171        6.0        208.0      True      True   \n",
       "2          11               171        0.0        202.0      True      True   \n",
       "3          11               171       20.0        222.0      True      True   \n",
       "4          11               171        2.0        204.0      True      True   \n",
       "\n",
       "   /m/064t9  /m/019_rr  /m/02vxn  definition__hd  ...  category__Other  \\\n",
       "0     False      False      True               1  ...                1   \n",
       "1     False      False      True               1  ...                1   \n",
       "2     False      False      True               1  ...                1   \n",
       "3     False      False      True               1  ...                1   \n",
       "4     False      False      True               1  ...                1   \n",
       "\n",
       "   category__entertainment  category__music  category__people  \\\n",
       "0                        0                0                 0   \n",
       "1                        0                0                 0   \n",
       "2                        0                0                 0   \n",
       "3                        0                0                 0   \n",
       "4                        0                0                 0   \n",
       "\n",
       "   licensedContent__False  licensedContent__True  country__Other  country__US  \\\n",
       "0                       1                      0               1            0   \n",
       "1                       1                      0               1            0   \n",
       "2                       1                      0               1            0   \n",
       "3                       1                      0               1            0   \n",
       "4                       1                      0               1            0   \n",
       "\n",
       "   country__no_country  views_Class  \n",
       "0                    0            1  \n",
       "1                    0            2  \n",
       "2                    0            3  \n",
       "3                    0            1  \n",
       "4                    0            3  \n",
       "\n",
       "[5 rows x 21 columns]"
      ]
     },
     "execution_count": 46,
     "metadata": {},
     "output_type": "execute_result"
    }
   ],
   "source": [
    "data=data.drop(['owned views'], axis=1)\n",
    "data.head()"
   ]
  },
  {
   "cell_type": "markdown",
   "metadata": {},
   "source": [
    "### Feature scaling"
   ]
  },
  {
   "cell_type": "code",
   "execution_count": 47,
   "metadata": {},
   "outputs": [
    {
     "data": {
      "text/html": [
       "<div>\n",
       "<style scoped>\n",
       "    .dataframe tbody tr th:only-of-type {\n",
       "        vertical-align: middle;\n",
       "    }\n",
       "\n",
       "    .dataframe tbody tr th {\n",
       "        vertical-align: top;\n",
       "    }\n",
       "\n",
       "    .dataframe thead th {\n",
       "        text-align: right;\n",
       "    }\n",
       "</style>\n",
       "<table border=\"1\" class=\"dataframe\">\n",
       "  <thead>\n",
       "    <tr style=\"text-align: right;\">\n",
       "      <th></th>\n",
       "      <th>Tags_count</th>\n",
       "      <th>Duration_Seconds</th>\n",
       "      <th>video_age</th>\n",
       "      <th>channel_age</th>\n",
       "      <th>/m/04rlf</th>\n",
       "      <th>/m/02jjt</th>\n",
       "      <th>/m/064t9</th>\n",
       "      <th>/m/019_rr</th>\n",
       "      <th>/m/02vxn</th>\n",
       "      <th>definition__hd</th>\n",
       "      <th>...</th>\n",
       "      <th>category__Other</th>\n",
       "      <th>category__entertainment</th>\n",
       "      <th>category__music</th>\n",
       "      <th>category__people</th>\n",
       "      <th>licensedContent__False</th>\n",
       "      <th>licensedContent__True</th>\n",
       "      <th>country__Other</th>\n",
       "      <th>country__US</th>\n",
       "      <th>country__no_country</th>\n",
       "      <th>views_Class</th>\n",
       "    </tr>\n",
       "  </thead>\n",
       "  <tbody>\n",
       "    <tr>\n",
       "      <th>0</th>\n",
       "      <td>0.09901</td>\n",
       "      <td>0.004749</td>\n",
       "      <td>0.005587</td>\n",
       "      <td>0.045655</td>\n",
       "      <td>True</td>\n",
       "      <td>True</td>\n",
       "      <td>False</td>\n",
       "      <td>False</td>\n",
       "      <td>True</td>\n",
       "      <td>1</td>\n",
       "      <td>...</td>\n",
       "      <td>1</td>\n",
       "      <td>0</td>\n",
       "      <td>0</td>\n",
       "      <td>0</td>\n",
       "      <td>1</td>\n",
       "      <td>0</td>\n",
       "      <td>1</td>\n",
       "      <td>0</td>\n",
       "      <td>0</td>\n",
       "      <td>1</td>\n",
       "    </tr>\n",
       "    <tr>\n",
       "      <th>1</th>\n",
       "      <td>0.09901</td>\n",
       "      <td>0.004749</td>\n",
       "      <td>0.001289</td>\n",
       "      <td>0.041650</td>\n",
       "      <td>True</td>\n",
       "      <td>True</td>\n",
       "      <td>False</td>\n",
       "      <td>False</td>\n",
       "      <td>True</td>\n",
       "      <td>1</td>\n",
       "      <td>...</td>\n",
       "      <td>1</td>\n",
       "      <td>0</td>\n",
       "      <td>0</td>\n",
       "      <td>0</td>\n",
       "      <td>1</td>\n",
       "      <td>0</td>\n",
       "      <td>1</td>\n",
       "      <td>0</td>\n",
       "      <td>0</td>\n",
       "      <td>2</td>\n",
       "    </tr>\n",
       "    <tr>\n",
       "      <th>2</th>\n",
       "      <td>0.09901</td>\n",
       "      <td>0.004749</td>\n",
       "      <td>0.000000</td>\n",
       "      <td>0.040449</td>\n",
       "      <td>True</td>\n",
       "      <td>True</td>\n",
       "      <td>False</td>\n",
       "      <td>False</td>\n",
       "      <td>True</td>\n",
       "      <td>1</td>\n",
       "      <td>...</td>\n",
       "      <td>1</td>\n",
       "      <td>0</td>\n",
       "      <td>0</td>\n",
       "      <td>0</td>\n",
       "      <td>1</td>\n",
       "      <td>0</td>\n",
       "      <td>1</td>\n",
       "      <td>0</td>\n",
       "      <td>0</td>\n",
       "      <td>3</td>\n",
       "    </tr>\n",
       "    <tr>\n",
       "      <th>3</th>\n",
       "      <td>0.09901</td>\n",
       "      <td>0.004749</td>\n",
       "      <td>0.004297</td>\n",
       "      <td>0.044453</td>\n",
       "      <td>True</td>\n",
       "      <td>True</td>\n",
       "      <td>False</td>\n",
       "      <td>False</td>\n",
       "      <td>True</td>\n",
       "      <td>1</td>\n",
       "      <td>...</td>\n",
       "      <td>1</td>\n",
       "      <td>0</td>\n",
       "      <td>0</td>\n",
       "      <td>0</td>\n",
       "      <td>1</td>\n",
       "      <td>0</td>\n",
       "      <td>1</td>\n",
       "      <td>0</td>\n",
       "      <td>0</td>\n",
       "      <td>1</td>\n",
       "    </tr>\n",
       "    <tr>\n",
       "      <th>4</th>\n",
       "      <td>0.09901</td>\n",
       "      <td>0.004749</td>\n",
       "      <td>0.000430</td>\n",
       "      <td>0.040849</td>\n",
       "      <td>True</td>\n",
       "      <td>True</td>\n",
       "      <td>False</td>\n",
       "      <td>False</td>\n",
       "      <td>True</td>\n",
       "      <td>1</td>\n",
       "      <td>...</td>\n",
       "      <td>1</td>\n",
       "      <td>0</td>\n",
       "      <td>0</td>\n",
       "      <td>0</td>\n",
       "      <td>1</td>\n",
       "      <td>0</td>\n",
       "      <td>1</td>\n",
       "      <td>0</td>\n",
       "      <td>0</td>\n",
       "      <td>3</td>\n",
       "    </tr>\n",
       "  </tbody>\n",
       "</table>\n",
       "<p>5 rows × 21 columns</p>\n",
       "</div>"
      ],
      "text/plain": [
       "   Tags_count  Duration_Seconds  video_age  channel_age  /m/04rlf  /m/02jjt  \\\n",
       "0     0.09901          0.004749   0.005587     0.045655      True      True   \n",
       "1     0.09901          0.004749   0.001289     0.041650      True      True   \n",
       "2     0.09901          0.004749   0.000000     0.040449      True      True   \n",
       "3     0.09901          0.004749   0.004297     0.044453      True      True   \n",
       "4     0.09901          0.004749   0.000430     0.040849      True      True   \n",
       "\n",
       "   /m/064t9  /m/019_rr  /m/02vxn  definition__hd  ...  category__Other  \\\n",
       "0     False      False      True               1  ...                1   \n",
       "1     False      False      True               1  ...                1   \n",
       "2     False      False      True               1  ...                1   \n",
       "3     False      False      True               1  ...                1   \n",
       "4     False      False      True               1  ...                1   \n",
       "\n",
       "   category__entertainment  category__music  category__people  \\\n",
       "0                        0                0                 0   \n",
       "1                        0                0                 0   \n",
       "2                        0                0                 0   \n",
       "3                        0                0                 0   \n",
       "4                        0                0                 0   \n",
       "\n",
       "   licensedContent__False  licensedContent__True  country__Other  country__US  \\\n",
       "0                       1                      0               1            0   \n",
       "1                       1                      0               1            0   \n",
       "2                       1                      0               1            0   \n",
       "3                       1                      0               1            0   \n",
       "4                       1                      0               1            0   \n",
       "\n",
       "   country__no_country  views_Class  \n",
       "0                    0            1  \n",
       "1                    0            2  \n",
       "2                    0            3  \n",
       "3                    0            1  \n",
       "4                    0            3  \n",
       "\n",
       "[5 rows x 21 columns]"
      ]
     },
     "execution_count": 47,
     "metadata": {},
     "output_type": "execute_result"
    }
   ],
   "source": [
    "scaler = preprocessing.MinMaxScaler()\n",
    "num_cols = ['Tags_count', 'Duration_Seconds', 'video_age','channel_age']\n",
    "data[num_cols] = scaler.fit_transform(data[num_cols])\n",
    "data.head()"
   ]
  },
  {
   "cell_type": "markdown",
   "metadata": {},
   "source": [
    "### Train Test Split"
   ]
  },
  {
   "cell_type": "code",
   "execution_count": 48,
   "metadata": {},
   "outputs": [],
   "source": [
    "X=data.drop(['views_Class'], axis=1)\n",
    "y=data['views_Class']\n",
    "X_train, X_test, y_train, y_test = train_test_split(X, y, test_size=0.2, random_state=123)"
   ]
  },
  {
   "cell_type": "code",
   "execution_count": 49,
   "metadata": {},
   "outputs": [],
   "source": [
    "## Weights for imbalanced classes\n",
    "class_w = class_weight.compute_class_weight('balanced',np.unique(y_train),y_train)"
   ]
  },
  {
   "cell_type": "markdown",
   "metadata": {},
   "source": [
    "# Classification Models"
   ]
  },
  {
   "cell_type": "markdown",
   "metadata": {},
   "source": [
    "## 1st Model - XGBoost Classifier"
   ]
  },
  {
   "cell_type": "code",
   "execution_count": 50,
   "metadata": {},
   "outputs": [
    {
     "name": "stdout",
     "output_type": "stream",
     "text": [
      "XGBoost's prediction accuracy is: 81.27\n",
      "Time consumed for training: 1279.243\n",
      "Time consumed for prediction: 33890.52063 seconds\n"
     ]
    }
   ],
   "source": [
    "xgb = XGBClassifier(n_estimators=700,\n",
    "                    objective='multi:softmax',\n",
    "                    num_class=5,\n",
    "                    max_depth=10,\n",
    "                    learning_rate=0.1,\n",
    "                    eta=0.1,\n",
    "                    num_round = 20,\n",
    "                    class_weight=class_w)\n",
    "training_start = time.perf_counter()\n",
    "xgb.fit(X_train, y_train)\n",
    "training_end = time.perf_counter()\n",
    "prediction_start = time.perf_counter()\n",
    "preds = xgb.predict(X_test)\n",
    "prediction_end = time.perf_counter()\n",
    "acc_xgb = (preds == y_test).sum().astype(float) / len(preds)*100\n",
    "xgb_train_time = training_end-training_start\n",
    "xgb_prediction_time = prediction_end-prediction_start\n",
    "print(\"XGBoost's prediction accuracy is: %3.2f\" % (acc_xgb))\n",
    "print(\"Time consumed for training: %4.3f\" % (xgb_train_time))\n",
    "print(\"Time consumed for prediction: %6.5f seconds\" % (xgb_prediction_time))"
   ]
  },
  {
   "cell_type": "markdown",
   "metadata": {},
   "source": [
    "### XGBoost Classification Report"
   ]
  },
  {
   "cell_type": "code",
   "execution_count": 51,
   "metadata": {},
   "outputs": [
    {
     "name": "stdout",
     "output_type": "stream",
     "text": [
      "              precision    recall  f1-score   support\n",
      "\n",
      "           1       0.87      0.88      0.87     12564\n",
      "           2       0.77      0.74      0.75      9090\n",
      "           3       0.80      0.74      0.77      7003\n",
      "           4       0.74      0.81      0.77      6097\n",
      "           5       0.87      0.87      0.87      5473\n",
      "\n",
      "    accuracy                           0.81     40227\n",
      "   macro avg       0.81      0.81      0.81     40227\n",
      "weighted avg       0.81      0.81      0.81     40227\n",
      "\n"
     ]
    }
   ],
   "source": [
    "print(classification_report(y_test, preds))"
   ]
  },
  {
   "cell_type": "markdown",
   "metadata": {},
   "source": [
    "### XGBoost Feature Importance"
   ]
  },
  {
   "cell_type": "code",
   "execution_count": 52,
   "metadata": {},
   "outputs": [
    {
     "data": {
      "image/png": "[encoded data removed]",
      "text/plain": [
       "<Figure size 432x288 with 1 Axes>"
      ]
     },
     "metadata": {
      "needs_background": "light"
     },
     "output_type": "display_data"
    }
   ],
   "source": [
    "plot_importance(xgb)\n",
    "pyplot.show()"
   ]
  },
  {
   "cell_type": "markdown",
   "metadata": {},
   "source": [
    "### XGBoost Confusion Matrix"
   ]
  },
  {
   "cell_type": "code",
   "execution_count": 53,
   "metadata": {},
   "outputs": [
    {
     "name": "stdout",
     "output_type": "stream",
     "text": [
      "Predicted      1     2     3     4     5\n",
      "Actual                                  \n",
      "1          11092   966    97   277   132\n",
      "2           1377  6689   679   235   110\n",
      "3            137   905  5209   636   116\n",
      "4            137    86   525  4968   381\n",
      "5             54    45    30   608  4736\n"
     ]
    }
   ],
   "source": [
    "d = {'y_Predicted': preds,'y_Actual': y_test}\n",
    "\n",
    "matrix = pd.DataFrame(d, columns=['y_Actual','y_Predicted'])\n",
    "confusion_matrix = pd.crosstab(matrix['y_Actual'], matrix['y_Predicted'], rownames=['Actual'], colnames=['Predicted'])\n",
    "print (confusion_matrix)"
   ]
  },
  {
   "cell_type": "markdown",
   "metadata": {},
   "source": [
    "## 2nd Model - Random Forest Classifier"
   ]
  },
  {
   "cell_type": "code",
   "execution_count": 54,
   "metadata": {},
   "outputs": [
    {
     "name": "stdout",
     "output_type": "stream",
     "text": [
      "Random Forest Classifier's prediction accuracy is: 80.91\n",
      "Time consumed for training: 10.853 seconds\n",
      "Time consumed for prediction: 0.69267 seconds\n"
     ]
    }
   ],
   "source": [
    "rfc = RandomForestClassifier(n_estimators=50,class_weight='balanced')\n",
    "training_start = time.perf_counter()\n",
    "rfc.fit(X_train, y_train)\n",
    "training_end = time.perf_counter()\n",
    "prediction_start = time.perf_counter()\n",
    "preds = rfc.predict(X_test)\n",
    "prediction_end = time.perf_counter()\n",
    "acc_rfc = (preds == y_test).sum().astype(float) / len(preds)*100\n",
    "rfc_train_time = training_end-training_start\n",
    "rfc_prediction_time = prediction_end-prediction_start\n",
    "print(\"Random Forest Classifier's prediction accuracy is: %3.2f\" % (acc_rfc))\n",
    "print(\"Time consumed for training: %4.3f seconds\" % (rfc_train_time))\n",
    "print(\"Time consumed for prediction: %6.5f seconds\" % (rfc_prediction_time))"
   ]
  },
  {
   "cell_type": "markdown",
   "metadata": {},
   "source": [
    "### Random Forest Classification Report"
   ]
  },
  {
   "cell_type": "code",
   "execution_count": 55,
   "metadata": {},
   "outputs": [
    {
     "name": "stdout",
     "output_type": "stream",
     "text": [
      "              precision    recall  f1-score   support\n",
      "\n",
      "           1       0.88      0.86      0.87     12564\n",
      "           2       0.78      0.73      0.75      9090\n",
      "           3       0.77      0.76      0.77      7003\n",
      "           4       0.72      0.81      0.77      6097\n",
      "           5       0.85      0.87      0.86      5473\n",
      "\n",
      "    accuracy                           0.81     40227\n",
      "   macro avg       0.80      0.81      0.80     40227\n",
      "weighted avg       0.81      0.81      0.81     40227\n",
      "\n"
     ]
    }
   ],
   "source": [
    "print(classification_report(y_test, preds))"
   ]
  },
  {
   "cell_type": "markdown",
   "metadata": {},
   "source": [
    "### Random Forest Feature Importance"
   ]
  },
  {
   "cell_type": "code",
   "execution_count": 56,
   "metadata": {},
   "outputs": [
    {
     "data": {
      "text/plain": [
       "Text(0.5, 0, 'Relative Importance')"
      ]
     },
     "execution_count": 56,
     "metadata": {},
     "output_type": "execute_result"
    },
    {
     "data": {
      "image/png": "[encoded data removed]",
      "text/plain": [
       "<Figure size 432x288 with 1 Axes>"
      ]
     },
     "metadata": {
      "needs_background": "light"
     },
     "output_type": "display_data"
    }
   ],
   "source": [
    "features=X_test.columns\n",
    "importances = rfc.feature_importances_\n",
    "indices = np.argsort(importances)\n",
    "\n",
    "plt.figure(1)\n",
    "plt.title('Feature Importances')\n",
    "plt.barh(range(len(indices)), importances[indices], color='b', align='center')\n",
    "plt.yticks(range(len(indices)), features[indices])\n",
    "plt.xlabel('Relative Importance')"
   ]
  },
  {
   "cell_type": "markdown",
   "metadata": {},
   "source": [
    "### Random Forest Confusion Matrix"
   ]
  },
  {
   "cell_type": "code",
   "execution_count": 57,
   "metadata": {},
   "outputs": [
    {
     "name": "stdout",
     "output_type": "stream",
     "text": [
      "Predicted      1     2     3     4     5\n",
      "Actual                                  \n",
      "1          10866  1106   130   310   152\n",
      "2           1237  6660   842   236   115\n",
      "3             87   718  5329   747   122\n",
      "4            113    64   512  4948   460\n",
      "5             45    32    67   584  4745\n"
     ]
    }
   ],
   "source": [
    "d = {'y_Predicted': preds,'y_Actual': y_test}\n",
    "\n",
    "matrix = pd.DataFrame(d, columns=['y_Actual','y_Predicted'])\n",
    "confusion_matrix = pd.crosstab(matrix['y_Actual'], matrix['y_Predicted'], rownames=['Actual'], colnames=['Predicted'])\n",
    "print (confusion_matrix)"
   ]
  },
  {
   "cell_type": "markdown",
   "metadata": {},
   "source": [
    "## 3rd Model - K-Nearest Neighbor"
   ]
  },
  {
   "cell_type": "markdown",
   "metadata": {},
   "source": [
    "#### Find optimal k"
   ]
  },
  {
   "cell_type": "code",
   "execution_count": 58,
   "metadata": {},
   "outputs": [
    {
     "name": "stdout",
     "output_type": "stream",
     "text": [
      "The optimal number of neighbors is 1\n"
     ]
    },
    {
     "data": {
      "image/png": "[encoded data removed]",
      "text/plain": [
       "<Figure size 432x288 with 1 Axes>"
      ]
     },
     "metadata": {
      "needs_background": "light"
     },
     "output_type": "display_data"
    }
   ],
   "source": [
    "neighbors = list(range(1,10))\n",
    "\n",
    "# empty list that will hold cv scores\n",
    "cv_scores = []\n",
    "\n",
    "# perform 10-fold cross validation\n",
    "for k in neighbors:\n",
    "    knn = KNeighborsClassifier(n_neighbors=k)\n",
    "    scores = cross_val_score(knn, X_train, y_train, cv=10, scoring='accuracy')\n",
    "    cv_scores.append(scores.mean())\n",
    "    \n",
    "    \n",
    "# changing to misclassification error\n",
    "MSE = [1 - x for x in cv_scores]\n",
    "\n",
    "# determining best k\n",
    "optimal_k = neighbors[MSE.index(min(MSE))]\n",
    "print (\"The optimal number of neighbors is %d\" % optimal_k)\n",
    "\n",
    "#plot misclassification error vs k\n",
    "plt.plot(neighbors, MSE)\n",
    "plt.xlabel('Number of Neighbors K')\n",
    "plt.ylabel('Misclassification Error')\n",
    "plt.show()    "
   ]
  },
  {
   "cell_type": "code",
   "execution_count": 59,
   "metadata": {},
   "outputs": [
    {
     "name": "stdout",
     "output_type": "stream",
     "text": [
      "KNN Classifier's prediction accuracy is: 79.69\n",
      "Time consumed for training: 6.964 seconds\n",
      "Time consumed for prediction: 20.33842 seconds\n"
     ]
    }
   ],
   "source": [
    "knn = KNeighborsClassifier(n_neighbors=1)\n",
    "training_start = time.perf_counter()\n",
    "knn.fit(X_train, y_train)\n",
    "training_end = time.perf_counter()\n",
    "prediction_start = time.perf_counter()\n",
    "preds = knn.predict(X_test)\n",
    "prediction_end = time.perf_counter()\n",
    "acc_knn = (preds == y_test).sum().astype(float) / len(preds)*100\n",
    "knn_train_time = training_end-training_start\n",
    "knn_prediction_time = prediction_end-prediction_start\n",
    "print(\"KNN Classifier's prediction accuracy is: %3.2f\" % (acc_knn))\n",
    "print(\"Time consumed for training: %4.3f seconds\" % (knn_train_time))\n",
    "print(\"Time consumed for prediction: %6.5f seconds\" % (knn_prediction_time))"
   ]
  },
  {
   "cell_type": "markdown",
   "metadata": {},
   "source": [
    "### KNN Classification Report"
   ]
  },
  {
   "cell_type": "code",
   "execution_count": 60,
   "metadata": {},
   "outputs": [
    {
     "name": "stdout",
     "output_type": "stream",
     "text": [
      "              precision    recall  f1-score   support\n",
      "\n",
      "           1       0.87      0.85      0.86     12564\n",
      "           2       0.75      0.73      0.74      9090\n",
      "           3       0.70      0.77      0.73      7003\n",
      "           4       0.78      0.78      0.78      6097\n",
      "           5       0.85      0.85      0.85      5473\n",
      "\n",
      "    accuracy                           0.80     40227\n",
      "   macro avg       0.79      0.79      0.79     40227\n",
      "weighted avg       0.80      0.80      0.80     40227\n",
      "\n"
     ]
    }
   ],
   "source": [
    "print(classification_report(y_test, preds))"
   ]
  },
  {
   "cell_type": "markdown",
   "metadata": {},
   "source": [
    "### KNN Confusion Matrix"
   ]
  },
  {
   "cell_type": "code",
   "execution_count": 61,
   "metadata": {},
   "outputs": [
    {
     "name": "stdout",
     "output_type": "stream",
     "text": [
      "Predicted      1     2     3     4     5\n",
      "Actual                                  \n",
      "1          10690  1223   312   183   156\n",
      "2           1276  6604   936   141   133\n",
      "3            119   794  5378   576   136\n",
      "4             99   108   758  4727   405\n",
      "5             74    48   268   424  4659\n"
     ]
    }
   ],
   "source": [
    "d = {'y_Predicted': preds,'y_Actual': y_test}\n",
    "\n",
    "matrix = pd.DataFrame(d, columns=['y_Actual','y_Predicted'])\n",
    "confusion_matrix = pd.crosstab(matrix['y_Actual'], matrix['y_Predicted'], rownames=['Actual'], colnames=['Predicted'])\n",
    "print (confusion_matrix)"
   ]
  },
  {
   "cell_type": "markdown",
   "metadata": {},
   "source": [
    "### Summary"
   ]
  },
  {
   "cell_type": "code",
   "execution_count": 63,
   "metadata": {},
   "outputs": [
    {
     "data": {
      "text/html": [
       "<div>\n",
       "<style scoped>\n",
       "    .dataframe tbody tr th:only-of-type {\n",
       "        vertical-align: middle;\n",
       "    }\n",
       "\n",
       "    .dataframe tbody tr th {\n",
       "        vertical-align: top;\n",
       "    }\n",
       "\n",
       "    .dataframe thead th {\n",
       "        text-align: right;\n",
       "    }\n",
       "</style>\n",
       "<table border=\"1\" class=\"dataframe\">\n",
       "  <thead>\n",
       "    <tr style=\"text-align: right;\">\n",
       "      <th></th>\n",
       "      <th>Accuracy</th>\n",
       "      <th>Runtime Training</th>\n",
       "      <th>Runtime Prediction</th>\n",
       "    </tr>\n",
       "    <tr>\n",
       "      <th>Model</th>\n",
       "      <th></th>\n",
       "      <th></th>\n",
       "      <th></th>\n",
       "    </tr>\n",
       "  </thead>\n",
       "  <tbody>\n",
       "    <tr>\n",
       "      <th>XGBClassifier</th>\n",
       "      <td>81.273771</td>\n",
       "      <td>1279.243311</td>\n",
       "      <td>33890.520634</td>\n",
       "    </tr>\n",
       "    <tr>\n",
       "      <th>Random Forest</th>\n",
       "      <td>80.910831</td>\n",
       "      <td>10.852980</td>\n",
       "      <td>0.692673</td>\n",
       "    </tr>\n",
       "    <tr>\n",
       "      <th>KNN</th>\n",
       "      <td>79.692744</td>\n",
       "      <td>6.964444</td>\n",
       "      <td>20.338416</td>\n",
       "    </tr>\n",
       "  </tbody>\n",
       "</table>\n",
       "</div>"
      ],
      "text/plain": [
       "                Accuracy  Runtime Training  Runtime Prediction\n",
       "Model                                                         \n",
       "XGBClassifier  81.273771       1279.243311        33890.520634\n",
       "Random Forest  80.910831         10.852980            0.692673\n",
       "KNN            79.692744          6.964444           20.338416"
      ]
     },
     "execution_count": 63,
     "metadata": {},
     "output_type": "execute_result"
    }
   ],
   "source": [
    "results = pd.DataFrame({\n",
    "                  'Model': ['XGBClassifier', 'Random Forest', 'KNN'],\n",
    "                  'Accuracy': [acc_xgb, acc_rfc, acc_knn],\n",
    "                  'Runtime Training': [xgb_train_time, rfc_train_time, knn_train_time],\n",
    "                  'Runtime Prediction': [xgb_prediction_time, rfc_prediction_time,knn_prediction_time]})\n",
    "result_df = results.sort_values(by='Accuracy', ascending=False)\n",
    "result_df = result_df.set_index('Model')\n",
    "result_df"
   ]
  },
  {
   "cell_type": "code",
   "execution_count": null,
   "metadata": {},
   "outputs": [],
   "source": []
  }
 ],
 "metadata": {
  "kernelspec": {
   "display_name": "Python 3",
   "language": "python",
   "name": "python3"
  },
  "language_info": {
   "codemirror_mode": {
    "name": "ipython",
    "version": 3
   },
   "file_extension": ".py",
   "mimetype": "text/x-python",
   "name": "python",
   "nbconvert_exporter": "python",
   "pygments_lexer": "ipython3",
   "version": "3.7.3"
  }
 },
 "nbformat": 4,
 "nbformat_minor": 2
}
